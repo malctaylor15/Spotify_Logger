{
 "cells": [
  {
   "cell_type": "markdown",
   "metadata": {
    "tags": [
     "papermill-error-cell-tag"
    ]
   },
   "source": [
    "<span style=\"color:red; font-family:Helvetica Neue, Helvetica, Arial, sans-serif; font-size:2em;\">An Exception was encountered at '<a href=\"#papermill-error-cell\">In [19]</a>'.</span>"
   ]
  },
  {
   "cell_type": "code",
   "execution_count": 1,
   "metadata": {
    "execution": {
     "iopub.execute_input": "2020-08-02T14:28:33.243342Z",
     "iopub.status.busy": "2020-08-02T14:28:33.242388Z",
     "iopub.status.idle": "2020-08-02T14:28:34.139688Z",
     "shell.execute_reply": "2020-08-02T14:28:34.140508Z"
    },
    "papermill": {
     "duration": 0.924938,
     "end_time": "2020-08-02T14:28:34.140718",
     "exception": false,
     "start_time": "2020-08-02T14:28:33.215780",
     "status": "completed"
    },
    "tags": []
   },
   "outputs": [],
   "source": [
    "import os \n",
    "import sys \n",
    "import pandas as pd \n",
    "import numpy as np \n",
    "import re\n",
    "import pickle\n",
    "import json\n",
    "import sqlite3\n",
    "from pprint import pprint\n",
    "import datetime\n",
    "import pdb"
   ]
  },
  {
   "cell_type": "code",
   "execution_count": 2,
   "metadata": {
    "execution": {
     "iopub.execute_input": "2020-08-02T14:28:34.190062Z",
     "iopub.status.busy": "2020-08-02T14:28:34.188549Z",
     "iopub.status.idle": "2020-08-02T14:28:34.313173Z",
     "shell.execute_reply": "2020-08-02T14:28:34.313966Z"
    },
    "papermill": {
     "duration": 0.154339,
     "end_time": "2020-08-02T14:28:34.314164",
     "exception": false,
     "start_time": "2020-08-02T14:28:34.159825",
     "status": "completed"
    },
    "tags": []
   },
   "outputs": [],
   "source": [
    "import spotipy\n",
    "from spotipy.oauth2 import SpotifyClientCredentials, SpotifyOAuth"
   ]
  },
  {
   "cell_type": "code",
   "execution_count": 3,
   "metadata": {
    "execution": {
     "iopub.execute_input": "2020-08-02T14:28:34.362570Z",
     "iopub.status.busy": "2020-08-02T14:28:34.361621Z",
     "iopub.status.idle": "2020-08-02T14:28:34.394089Z",
     "shell.execute_reply": "2020-08-02T14:28:34.394904Z"
    },
    "papermill": {
     "duration": 0.062597,
     "end_time": "2020-08-02T14:28:34.395077",
     "exception": false,
     "start_time": "2020-08-02T14:28:34.332480",
     "status": "completed"
    },
    "tags": []
   },
   "outputs": [],
   "source": [
    "%load_ext autoreload\n",
    "%autoreload 2"
   ]
  },
  {
   "cell_type": "markdown",
   "metadata": {
    "papermill": {
     "duration": 0.01769,
     "end_time": "2020-08-02T14:28:34.430663",
     "exception": false,
     "start_time": "2020-08-02T14:28:34.412973",
     "status": "completed"
    },
    "tags": []
   },
   "source": [
    "## Set up "
   ]
  },
  {
   "cell_type": "code",
   "execution_count": 4,
   "metadata": {
    "execution": {
     "iopub.execute_input": "2020-08-02T14:28:34.479372Z",
     "iopub.status.busy": "2020-08-02T14:28:34.478304Z",
     "iopub.status.idle": "2020-08-02T14:28:34.506128Z",
     "shell.execute_reply": "2020-08-02T14:28:34.506975Z"
    },
    "papermill": {
     "duration": 0.057932,
     "end_time": "2020-08-02T14:28:34.507151",
     "exception": false,
     "start_time": "2020-08-02T14:28:34.449219",
     "status": "completed"
    },
    "tags": []
   },
   "outputs": [],
   "source": [
    "with open('data/spotify_creds.pkl', 'rb') as hnd:\n",
    "    credentials = pickle.load(hnd)"
   ]
  },
  {
   "cell_type": "code",
   "execution_count": 5,
   "metadata": {
    "execution": {
     "iopub.execute_input": "2020-08-02T14:28:34.546872Z",
     "iopub.status.busy": "2020-08-02T14:28:34.545902Z",
     "iopub.status.idle": "2020-08-02T14:28:34.571083Z",
     "shell.execute_reply": "2020-08-02T14:28:34.570253Z"
    },
    "papermill": {
     "duration": 0.046467,
     "end_time": "2020-08-02T14:28:34.571226",
     "exception": false,
     "start_time": "2020-08-02T14:28:34.524759",
     "status": "completed"
    },
    "tags": []
   },
   "outputs": [],
   "source": [
    "os.environ.update(credentials)"
   ]
  },
  {
   "cell_type": "code",
   "execution_count": 6,
   "metadata": {
    "execution": {
     "iopub.execute_input": "2020-08-02T14:28:34.621982Z",
     "iopub.status.busy": "2020-08-02T14:28:34.621123Z",
     "iopub.status.idle": "2020-08-02T14:28:34.647164Z",
     "shell.execute_reply": "2020-08-02T14:28:34.647993Z"
    },
    "papermill": {
     "duration": 0.057888,
     "end_time": "2020-08-02T14:28:34.648166",
     "exception": false,
     "start_time": "2020-08-02T14:28:34.590278",
     "status": "completed"
    },
    "tags": []
   },
   "outputs": [],
   "source": [
    "scope = \"user-read-recently-played\""
   ]
  },
  {
   "cell_type": "code",
   "execution_count": 7,
   "metadata": {
    "execution": {
     "iopub.execute_input": "2020-08-02T14:28:34.695904Z",
     "iopub.status.busy": "2020-08-02T14:28:34.695078Z",
     "iopub.status.idle": "2020-08-02T14:28:34.720541Z",
     "shell.execute_reply": "2020-08-02T14:28:34.719628Z"
    },
    "papermill": {
     "duration": 0.051422,
     "end_time": "2020-08-02T14:28:34.720688",
     "exception": false,
     "start_time": "2020-08-02T14:28:34.669266",
     "status": "completed"
    },
    "tags": []
   },
   "outputs": [],
   "source": [
    "spotify = spotipy.Spotify(client_credentials_manager= SpotifyOAuth(scope=scope\n",
    "                                                                   , username='malchemist02'))"
   ]
  },
  {
   "cell_type": "code",
   "execution_count": null,
   "metadata": {
    "papermill": {
     "duration": 0.018382,
     "end_time": "2020-08-02T14:28:34.758418",
     "exception": false,
     "start_time": "2020-08-02T14:28:34.740036",
     "status": "completed"
    },
    "tags": []
   },
   "outputs": [],
   "source": []
  },
  {
   "cell_type": "markdown",
   "metadata": {
    "papermill": {
     "duration": 0.019332,
     "end_time": "2020-08-02T14:28:34.801718",
     "exception": false,
     "start_time": "2020-08-02T14:28:34.782386",
     "status": "completed"
    },
    "tags": []
   },
   "source": [
    "## Functions"
   ]
  },
  {
   "cell_type": "code",
   "execution_count": 8,
   "metadata": {
    "execution": {
     "iopub.execute_input": "2020-08-02T14:28:34.843660Z",
     "iopub.status.busy": "2020-08-02T14:28:34.842846Z",
     "iopub.status.idle": "2020-08-02T14:28:34.871790Z",
     "shell.execute_reply": "2020-08-02T14:28:34.872650Z"
    },
    "papermill": {
     "duration": 0.053075,
     "end_time": "2020-08-02T14:28:34.872825",
     "exception": false,
     "start_time": "2020-08-02T14:28:34.819750",
     "status": "completed"
    },
    "tags": []
   },
   "outputs": [],
   "source": [
    "def split_utc_time_str(time_str):\n",
    "    part1 = datetime.datetime.fromisoformat(time_str.replace('Z', '+00:00')) - datetime.timedelta(hours=4)\n",
    "    date = str(part1.date())\n",
    "    time = str(part1.time().strftime('%H:%M'))\n",
    "    return(date, time)"
   ]
  },
  {
   "cell_type": "code",
   "execution_count": null,
   "metadata": {
    "papermill": {
     "duration": 0.020809,
     "end_time": "2020-08-02T14:28:34.913931",
     "exception": false,
     "start_time": "2020-08-02T14:28:34.893122",
     "status": "completed"
    },
    "tags": []
   },
   "outputs": [],
   "source": []
  },
  {
   "cell_type": "code",
   "execution_count": 9,
   "metadata": {
    "execution": {
     "iopub.execute_input": "2020-08-02T14:28:34.971768Z",
     "iopub.status.busy": "2020-08-02T14:28:34.970129Z",
     "iopub.status.idle": "2020-08-02T14:28:34.997426Z",
     "shell.execute_reply": "2020-08-02T14:28:34.998470Z"
    },
    "papermill": {
     "duration": 0.058818,
     "end_time": "2020-08-02T14:28:34.998690",
     "exception": false,
     "start_time": "2020-08-02T14:28:34.939872",
     "status": "completed"
    },
    "tags": []
   },
   "outputs": [],
   "source": [
    "def get_recently_played(after=None):\n",
    "    recently_played = spotify.current_user_recently_played(after=after)\n",
    "    # Describe json \n",
    "    print('Getting songs at ', datetime.datetime.now())\n",
    "    before = recently_played['cursors']['before']\n",
    "    after = recently_played['cursors']['after']\n",
    "    n_items = len(recently_played['items'])\n",
    "    print(f'There are {n_items} songs between '\n",
    "          , datetime.datetime.fromtimestamp(int(before)/1000)\n",
    "          , '  and  '\n",
    "          , datetime.datetime.fromtimestamp(int(after)/1000))\n",
    "    \n",
    "    if n_items == 0:\n",
    "        return(pd.DataFrame(columns = ['name', 'artist_name', 'played_at_date', 'played_at_time'\n",
    "                            , 'duration_min', 'popularity'\n",
    "                            , 'song_uri', 'artist_id', 'playlist_id']))\n",
    "    \n",
    "    # Parse recently played output \n",
    "    songs_list = []\n",
    "    wanted_keys = ['name', 'duration_ms', 'popularity', 'uri']\n",
    "    for song in recently_played['items']:\n",
    "        temp_song_dict = {}\n",
    "        temp_song_dict['after_ts'] = after\n",
    "        temp_song_dict['played_at_date'], temp_song_dict['played_at_time'] = split_utc_time_str(song['played_at'])\n",
    "        for k in wanted_keys:\n",
    "            temp_song_dict[k] = song['track'][k]\n",
    "            \n",
    "        # Take first artist information \n",
    "        temp_song_dict['artist_name'] = song['track']['artists'][0]['name'] \n",
    "        temp_song_dict['artist_id'] = song['track']['artists'][0]['uri']\n",
    "\n",
    "        if song['context'] != None:\n",
    "            temp_song_dict['playlist_id'] = song['context']['uri']\n",
    "        else:\n",
    "            temp_song_dict['playlist_id'] = None\n",
    "        songs_list.append(temp_song_dict)\n",
    "\n",
    "    \n",
    "    # Export cleanly \n",
    "    out_series = pd.DataFrame(songs_list)\n",
    "    out_series['duration_min'] = out_series['duration_ms']/60000.0\n",
    "    out_series = out_series.rename({'uri':'song_uri'}, axis=1) \n",
    "    out_series = out_series[['name', 'artist_name', 'played_at_date', 'played_at_time'\n",
    "                            , 'duration_min', 'popularity'\n",
    "                            , 'song_uri', 'artist_id', 'playlist_id', 'after_ts']]\n",
    "    \n",
    "    return(out_series)"
   ]
  },
  {
   "cell_type": "code",
   "execution_count": null,
   "metadata": {
    "papermill": {
     "duration": 0.023957,
     "end_time": "2020-08-02T14:28:35.043495",
     "exception": false,
     "start_time": "2020-08-02T14:28:35.019538",
     "status": "completed"
    },
    "tags": []
   },
   "outputs": [],
   "source": []
  },
  {
   "cell_type": "markdown",
   "metadata": {
    "papermill": {
     "duration": 0.019718,
     "end_time": "2020-08-02T14:28:35.088789",
     "exception": false,
     "start_time": "2020-08-02T14:28:35.069071",
     "status": "completed"
    },
    "tags": []
   },
   "source": [
    "## Get time of last Spotify Pull"
   ]
  },
  {
   "cell_type": "code",
   "execution_count": 10,
   "metadata": {
    "execution": {
     "iopub.execute_input": "2020-08-02T14:28:35.132441Z",
     "iopub.status.busy": "2020-08-02T14:28:35.130584Z",
     "iopub.status.idle": "2020-08-02T14:28:35.156051Z",
     "shell.execute_reply": "2020-08-02T14:28:35.156871Z"
    },
    "papermill": {
     "duration": 0.050148,
     "end_time": "2020-08-02T14:28:35.157044",
     "exception": false,
     "start_time": "2020-08-02T14:28:35.106896",
     "status": "completed"
    },
    "tags": [
     "parameters"
    ]
   },
   "outputs": [],
   "source": [
    "db_location = 'data/listening_history.db'"
   ]
  },
  {
   "cell_type": "code",
   "execution_count": 11,
   "metadata": {
    "execution": {
     "iopub.execute_input": "2020-08-02T14:28:35.209842Z",
     "iopub.status.busy": "2020-08-02T14:28:35.208703Z",
     "iopub.status.idle": "2020-08-02T14:28:35.235401Z",
     "shell.execute_reply": "2020-08-02T14:28:35.236557Z"
    },
    "papermill": {
     "duration": 0.059927,
     "end_time": "2020-08-02T14:28:35.236750",
     "exception": false,
     "start_time": "2020-08-02T14:28:35.176823",
     "status": "completed"
    },
    "tags": [
     "injected-parameters"
    ]
   },
   "outputs": [],
   "source": [
    "# Parameters\n",
    "db_location = \"data/listening_history.db\"\n"
   ]
  },
  {
   "cell_type": "code",
   "execution_count": 12,
   "metadata": {
    "execution": {
     "iopub.execute_input": "2020-08-02T14:28:35.277861Z",
     "iopub.status.busy": "2020-08-02T14:28:35.277041Z",
     "iopub.status.idle": "2020-08-02T14:28:35.302026Z",
     "shell.execute_reply": "2020-08-02T14:28:35.302863Z"
    },
    "papermill": {
     "duration": 0.047896,
     "end_time": "2020-08-02T14:28:35.303044",
     "exception": false,
     "start_time": "2020-08-02T14:28:35.255148",
     "status": "completed"
    },
    "tags": []
   },
   "outputs": [],
   "source": [
    "con = sqlite3.connect(db_location)"
   ]
  },
  {
   "cell_type": "code",
   "execution_count": 13,
   "metadata": {
    "execution": {
     "iopub.execute_input": "2020-08-02T14:28:35.351910Z",
     "iopub.status.busy": "2020-08-02T14:28:35.350900Z",
     "iopub.status.idle": "2020-08-02T14:28:35.379690Z",
     "shell.execute_reply": "2020-08-02T14:28:35.380507Z"
    },
    "papermill": {
     "duration": 0.057975,
     "end_time": "2020-08-02T14:28:35.380680",
     "exception": false,
     "start_time": "2020-08-02T14:28:35.322705",
     "status": "completed"
    },
    "tags": []
   },
   "outputs": [],
   "source": [
    "cursor = con.cursor()"
   ]
  },
  {
   "cell_type": "code",
   "execution_count": 14,
   "metadata": {
    "execution": {
     "iopub.execute_input": "2020-08-02T14:28:35.424681Z",
     "iopub.status.busy": "2020-08-02T14:28:35.423856Z",
     "iopub.status.idle": "2020-08-02T14:28:35.450402Z",
     "shell.execute_reply": "2020-08-02T14:28:35.451575Z"
    },
    "papermill": {
     "duration": 0.051251,
     "end_time": "2020-08-02T14:28:35.451776",
     "exception": false,
     "start_time": "2020-08-02T14:28:35.400525",
     "status": "completed"
    },
    "tags": []
   },
   "outputs": [
    {
     "name": "stdout",
     "output_type": "stream",
     "text": [
      "Latest pull from  2020-08-02 09:50:53.875000\n"
     ]
    }
   ],
   "source": [
    "rslt = cursor.execute('select max(after_ts) from Listening_History').fetchone()\n",
    "latest_time_pull = rslt[0]\n",
    "print(\"Latest pull from \", \n",
    "datetime.datetime.fromtimestamp(int(latest_time_pull)/1000)) "
   ]
  },
  {
   "cell_type": "code",
   "execution_count": null,
   "metadata": {
    "papermill": {
     "duration": 0.020087,
     "end_time": "2020-08-02T14:28:35.492346",
     "exception": false,
     "start_time": "2020-08-02T14:28:35.472259",
     "status": "completed"
    },
    "tags": []
   },
   "outputs": [],
   "source": []
  },
  {
   "cell_type": "markdown",
   "metadata": {
    "papermill": {
     "duration": 0.019846,
     "end_time": "2020-08-02T14:28:35.541783",
     "exception": false,
     "start_time": "2020-08-02T14:28:35.521937",
     "status": "completed"
    },
    "tags": []
   },
   "source": [
    "## Pull from Spotify and Store to DB "
   ]
  },
  {
   "cell_type": "code",
   "execution_count": 15,
   "metadata": {
    "execution": {
     "iopub.execute_input": "2020-08-02T14:28:35.584936Z",
     "iopub.status.busy": "2020-08-02T14:28:35.584109Z",
     "iopub.status.idle": "2020-08-02T14:28:35.960108Z",
     "shell.execute_reply": "2020-08-02T14:28:35.959160Z"
    },
    "papermill": {
     "duration": 0.399064,
     "end_time": "2020-08-02T14:28:35.960385",
     "exception": false,
     "start_time": "2020-08-02T14:28:35.561321",
     "status": "completed"
    },
    "tags": []
   },
   "outputs": [
    {
     "name": "stdout",
     "output_type": "stream",
     "text": [
      "Getting songs at  2020-08-02 10:28:35.933009\n",
      "There are 2 songs between  2020-08-02 10:24:05.329000   and   2020-08-02 10:26:51.733000\n"
     ]
    }
   ],
   "source": [
    "newly_played = get_recently_played(latest_time_pull)"
   ]
  },
  {
   "cell_type": "code",
   "execution_count": 16,
   "metadata": {
    "execution": {
     "iopub.execute_input": "2020-08-02T14:28:36.013734Z",
     "iopub.status.busy": "2020-08-02T14:28:36.012669Z",
     "iopub.status.idle": "2020-08-02T14:28:36.062145Z",
     "shell.execute_reply": "2020-08-02T14:28:36.062973Z"
    },
    "papermill": {
     "duration": 0.080763,
     "end_time": "2020-08-02T14:28:36.063147",
     "exception": false,
     "start_time": "2020-08-02T14:28:35.982384",
     "status": "completed"
    },
    "tags": []
   },
   "outputs": [
    {
     "data": {
      "text/html": [
       "<div>\n",
       "<style scoped>\n",
       "    .dataframe tbody tr th:only-of-type {\n",
       "        vertical-align: middle;\n",
       "    }\n",
       "\n",
       "    .dataframe tbody tr th {\n",
       "        vertical-align: top;\n",
       "    }\n",
       "\n",
       "    .dataframe thead th {\n",
       "        text-align: right;\n",
       "    }\n",
       "</style>\n",
       "<table border=\"1\" class=\"dataframe\">\n",
       "  <thead>\n",
       "    <tr style=\"text-align: right;\">\n",
       "      <th></th>\n",
       "      <th>name</th>\n",
       "      <th>artist_name</th>\n",
       "      <th>played_at_date</th>\n",
       "      <th>played_at_time</th>\n",
       "      <th>duration_min</th>\n",
       "      <th>popularity</th>\n",
       "      <th>song_uri</th>\n",
       "      <th>artist_id</th>\n",
       "      <th>playlist_id</th>\n",
       "      <th>after_ts</th>\n",
       "    </tr>\n",
       "  </thead>\n",
       "  <tbody>\n",
       "    <tr>\n",
       "      <th>0</th>\n",
       "      <td>that's just how it goes</td>\n",
       "      <td>ROLE MODEL</td>\n",
       "      <td>2020-08-02</td>\n",
       "      <td>10:26</td>\n",
       "      <td>2.773333</td>\n",
       "      <td>60</td>\n",
       "      <td>spotify:track:4J4rJEaVpgr2tHwX6Jd13H</td>\n",
       "      <td>spotify:artist:1dy5WNgIKQU6ezkpZs4y8z</td>\n",
       "      <td>spotify:playlist:5UJhGomjPYIXhtkJiTXMYR</td>\n",
       "      <td>1596378411733</td>\n",
       "    </tr>\n",
       "    <tr>\n",
       "      <th>1</th>\n",
       "      <td>Amor De Una Noche (feat. Julio Voltio) - Remix...</td>\n",
       "      <td>N'Klabe</td>\n",
       "      <td>2020-08-02</td>\n",
       "      <td>10:24</td>\n",
       "      <td>4.455767</td>\n",
       "      <td>53</td>\n",
       "      <td>spotify:track:6B9r2hH46YbSEvnivmeF5C</td>\n",
       "      <td>spotify:artist:3sXLxfvWccL0EI4Q3xxO3q</td>\n",
       "      <td>spotify:playlist:5UJhGomjPYIXhtkJiTXMYR</td>\n",
       "      <td>1596378411733</td>\n",
       "    </tr>\n",
       "  </tbody>\n",
       "</table>\n",
       "</div>"
      ],
      "text/plain": [
       "                                                name artist_name  \\\n",
       "0                            that's just how it goes  ROLE MODEL   \n",
       "1  Amor De Una Noche (feat. Julio Voltio) - Remix...     N'Klabe   \n",
       "\n",
       "  played_at_date played_at_time  duration_min  popularity  \\\n",
       "0     2020-08-02          10:26      2.773333          60   \n",
       "1     2020-08-02          10:24      4.455767          53   \n",
       "\n",
       "                               song_uri  \\\n",
       "0  spotify:track:4J4rJEaVpgr2tHwX6Jd13H   \n",
       "1  spotify:track:6B9r2hH46YbSEvnivmeF5C   \n",
       "\n",
       "                               artist_id  \\\n",
       "0  spotify:artist:1dy5WNgIKQU6ezkpZs4y8z   \n",
       "1  spotify:artist:3sXLxfvWccL0EI4Q3xxO3q   \n",
       "\n",
       "                               playlist_id       after_ts  \n",
       "0  spotify:playlist:5UJhGomjPYIXhtkJiTXMYR  1596378411733  \n",
       "1  spotify:playlist:5UJhGomjPYIXhtkJiTXMYR  1596378411733  "
      ]
     },
     "execution_count": 16,
     "metadata": {},
     "output_type": "execute_result"
    }
   ],
   "source": [
    "newly_played.head()"
   ]
  },
  {
   "cell_type": "code",
   "execution_count": 17,
   "metadata": {
    "execution": {
     "iopub.execute_input": "2020-08-02T14:28:36.109351Z",
     "iopub.status.busy": "2020-08-02T14:28:36.108531Z",
     "iopub.status.idle": "2020-08-02T14:28:36.141128Z",
     "shell.execute_reply": "2020-08-02T14:28:36.140269Z"
    },
    "papermill": {
     "duration": 0.057721,
     "end_time": "2020-08-02T14:28:36.141273",
     "exception": false,
     "start_time": "2020-08-02T14:28:36.083552",
     "status": "completed"
    },
    "tags": []
   },
   "outputs": [],
   "source": [
    "con = sqlite3.connect(db_location)\n",
    "newly_played.to_sql('Listening_History', con, if_exists='append' )"
   ]
  },
  {
   "cell_type": "code",
   "execution_count": 18,
   "metadata": {
    "execution": {
     "iopub.execute_input": "2020-08-02T14:28:36.196533Z",
     "iopub.status.busy": "2020-08-02T14:28:36.195586Z",
     "iopub.status.idle": "2020-08-02T14:28:36.220188Z",
     "shell.execute_reply": "2020-08-02T14:28:36.221001Z"
    },
    "papermill": {
     "duration": 0.057613,
     "end_time": "2020-08-02T14:28:36.221319",
     "exception": false,
     "start_time": "2020-08-02T14:28:36.163706",
     "status": "completed"
    },
    "tags": []
   },
   "outputs": [],
   "source": [
    "con.commit()\n",
    "con.close()"
   ]
  },
  {
   "cell_type": "markdown",
   "metadata": {
    "tags": [
     "papermill-error-cell-tag"
    ]
   },
   "source": [
    "<span id=\"papermill-error-cell\" style=\"color:red; font-family:Helvetica Neue, Helvetica, Arial, sans-serif; font-size:2em;\">Execution using papermill encountered an exception here and stopped:</span>"
   ]
  },
  {
   "cell_type": "code",
   "execution_count": 19,
   "metadata": {
    "execution": {
     "iopub.execute_input": "2020-08-02T14:28:36.268210Z",
     "iopub.status.busy": "2020-08-02T14:28:36.267386Z",
     "iopub.status.idle": "2020-08-02T14:28:36.519253Z",
     "shell.execute_reply": "2020-08-02T14:28:36.517934Z"
    },
    "papermill": {
     "duration": 0.276499,
     "end_time": "2020-08-02T14:28:36.519507",
     "exception": true,
     "start_time": "2020-08-02T14:28:36.243008",
     "status": "failed"
    },
    "tags": []
   },
   "outputs": [
    {
     "ename": "ValueError",
     "evalue": "",
     "output_type": "error",
     "traceback": [
      "\u001b[0;31m---------------------------------------------------------------------------\u001b[0m",
      "\u001b[0;31mValueError\u001b[0m                                Traceback (most recent call last)",
      "\u001b[0;32m<ipython-input-19-4954757c312d>\u001b[0m in \u001b[0;36m<module>\u001b[0;34m\u001b[0m\n\u001b[0;32m----> 1\u001b[0;31m \u001b[0;32mraise\u001b[0m \u001b[0mValueError\u001b[0m\u001b[0;34m(\u001b[0m\u001b[0;34m)\u001b[0m\u001b[0;34m\u001b[0m\u001b[0;34m\u001b[0m\u001b[0m\n\u001b[0m",
      "\u001b[0;31mValueError\u001b[0m: "
     ]
    }
   ],
   "source": [
    "raise ValueError()"
   ]
  },
  {
   "cell_type": "code",
   "execution_count": null,
   "metadata": {
    "papermill": {
     "duration": null,
     "end_time": null,
     "exception": null,
     "start_time": null,
     "status": "pending"
    },
    "tags": []
   },
   "outputs": [],
   "source": []
  }
 ],
 "metadata": {
  "kernelspec": {
   "display_name": "Python 3",
   "language": "python",
   "name": "python3"
  },
  "language_info": {
   "codemirror_mode": {
    "name": "ipython",
    "version": 3
   },
   "file_extension": ".py",
   "mimetype": "text/x-python",
   "name": "python",
   "nbconvert_exporter": "python",
   "pygments_lexer": "ipython3",
   "version": "3.8.5"
  },
  "papermill": {
   "duration": 6.092917,
   "end_time": "2020-08-02T14:28:37.923272",
   "environment_variables": {},
   "exception": true,
   "input_path": "get_latest_songs_prod.ipynb",
   "output_path": "run_notebooks/get_latest_songs_prod_2020-08-02.ipynb",
   "parameters": {
    "db_location": "data/listening_history.db"
   },
   "start_time": "2020-08-02T14:28:31.830355",
   "version": "2.1.2"
  },
  "toc": {
   "base_numbering": 1,
   "nav_menu": {},
   "number_sections": true,
   "sideBar": true,
   "skip_h1_title": false,
   "title_cell": "Table of Contents",
   "title_sidebar": "Contents",
   "toc_cell": false,
   "toc_position": {},
   "toc_section_display": true,
   "toc_window_display": false
  }
 },
 "nbformat": 4,
 "nbformat_minor": 4
}