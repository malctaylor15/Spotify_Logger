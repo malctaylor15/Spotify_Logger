{
 "cells": [
  {
   "cell_type": "code",
   "execution_count": null,
   "metadata": {},
   "outputs": [],
   "source": [
    "import smtplib\n",
    "import ssl\n",
    "from email.mime.text import MIMEText\n",
    "from email.mime.multipart import MIMEMultipart\n",
    "import base64\n",
    "import papermill as pm\n",
    "import os \n",
    "import sys\n",
    "import re \n",
    "import datetime\n",
    "import pickle\n",
    "import nbconvert"
   ]
  },
  {
   "cell_type": "code",
   "execution_count": null,
   "metadata": {},
   "outputs": [],
   "source": [
    "import nbformat\n",
    "from traitlets.config import Config\n",
    "from nbconvert import HTMLExporter\n",
    "from nbconvert.writers import FilesWriter"
   ]
  },
  {
   "cell_type": "markdown",
   "metadata": {},
   "source": [
    "## Input parameters"
   ]
  },
  {
   "cell_type": "code",
   "execution_count": null,
   "metadata": {},
   "outputs": [],
   "source": [
    "db_location = 'data/listening_history.db'"
   ]
  },
  {
   "cell_type": "code",
   "execution_count": null,
   "metadata": {},
   "outputs": [],
   "source": []
  },
  {
   "cell_type": "markdown",
   "metadata": {},
   "source": [
    "## Run Notebooks"
   ]
  },
  {
   "cell_type": "code",
   "execution_count": null,
   "metadata": {},
   "outputs": [],
   "source": [
    "today_str = str(datetime.datetime.now().date())"
   ]
  },
  {
   "cell_type": "code",
   "execution_count": null,
   "metadata": {},
   "outputs": [],
   "source": []
  },
  {
   "cell_type": "markdown",
   "metadata": {},
   "source": [
    "### Ticketmaster "
   ]
  },
  {
   "cell_type": "code",
   "execution_count": null,
   "metadata": {},
   "outputs": [],
   "source": [
    "tm_notebook = \"get_latest_songs_prod.ipynb\"\n",
    "tm_new_notebook = f\"run_notebooks/get_latest_songs_prod_{today_str}.ipynb\""
   ]
  },
  {
   "cell_type": "code",
   "execution_count": null,
   "metadata": {},
   "outputs": [],
   "source": [
    "try:\n",
    "    pm.execute_notebook(tm_notebook\n",
    "              , tm_new_notebook\n",
    "#               , {\"db_location\": db_location\n",
    "#                 , \"n_weeks\" : n_weeks}\n",
    "                       )\n",
    "    tm_error = None\n",
    "except Exception as e:\n",
    "    tm_error = str(e)\n",
    "    print(\"Error\")"
   ]
  },
  {
   "cell_type": "markdown",
   "metadata": {},
   "source": [
    "## Email"
   ]
  },
  {
   "cell_type": "code",
   "execution_count": null,
   "metadata": {},
   "outputs": [],
   "source": [
    "def wrap_as_html(new_notebook_name):\n",
    "    \n",
    "    with open(new_notebook_name, 'r') as hnd:\n",
    "        notebook_txt = hnd.read()\n",
    "    nb_notebook = nbformat.reads(notebook_txt, as_version=4)\n",
    "    html_exporter = HTMLExporter()\n",
    "    html_exporter.template_file = 'basic'\n",
    "    (body, resources) = html_exporter.from_notebook_node(nb_notebook)\n",
    "\n",
    "    writer1 = FilesWriter()\n",
    "    html_name = re.sub('.ipynb', '', new_notebook_name)\n",
    "    writer1.write(output = body, resources = resources, notebook_name=html_name)\n",
    "    html_name = html_name + '.html'\n",
    "\n",
    "\n",
    "    return(html_name)"
   ]
  },
  {
   "cell_type": "code",
   "execution_count": null,
   "metadata": {},
   "outputs": [],
   "source": [
    "def create_html_attachment(html_name):\n",
    "    \n",
    "    with open(html_path, 'r') as hnd:\n",
    "        html = hnd.read()\n",
    "    part1 = MIMEText(html, 'html')\n",
    "    part1.add_header(\"Content-Disposition\", f\"attachment; filename= {html_path}\")\n",
    "    \n",
    "    return(part1)"
   ]
  },
  {
   "cell_type": "code",
   "execution_count": null,
   "metadata": {},
   "outputs": [],
   "source": [
    "gmail_login = \"malctaylordev@gmail.com\"\n",
    "sender_email = \"malctaylordev@gmail.com\"\n",
    "reciever_email = \"malctaylor15@gmail.com\"\n",
    "# reciever_email = gmail_login"
   ]
  },
  {
   "cell_type": "code",
   "execution_count": null,
   "metadata": {},
   "outputs": [],
   "source": [
    "with open('data/email_pw.pkl', 'rb') as hnd:\n",
    "    pw = pickle.load(hnd)['pw']"
   ]
  },
  {
   "cell_type": "code",
   "execution_count": null,
   "metadata": {},
   "outputs": [],
   "source": [
    "message = MIMEMultipart()\n",
    "message[\"From\"] = sender_email\n",
    "message[\"To\"] = reciever_email\n",
    "port = 465\n",
    "context = ssl.create_default_context()"
   ]
  },
  {
   "cell_type": "raw",
   "metadata": {},
   "source": [
    "sk_error= 'yes'"
   ]
  },
  {
   "cell_type": "code",
   "execution_count": null,
   "metadata": {},
   "outputs": [],
   "source": [
    "if isinstance(sk_error, str):\n",
    "    subject = \"Error in Songkick Runner_\"+today_str\n",
    "    message[\"Subject\"] = subject\n",
    "\n",
    "    \n",
    "    body = \"\"\"\n",
    "        There was an error in Scraping Songkick data. \n",
    "\n",
    "        Stack Trace: \n",
    "\n",
    "        \"\"\" + sk_error\n",
    "    \n",
    "    text = MIMEText(body, \"plain\")\n",
    "    message.attach(text)\n",
    "       \n",
    "    try:\n",
    "        html_path = wrap_as_html(sk_new_path)\n",
    "        html_attachment = create_html_attachment(html_path)\n",
    "        message.attach(html_attachment)\n",
    "\n",
    "    except Exception as e: \n",
    "        print(e)\n",
    "        body = body + \" \\n\\n Error attaching notebook... WIP \\n\\n\" + str(e)\n",
    "        \n",
    "    print(\"Starting email send\")\n",
    "    with smtplib.SMTP_SSL(\"smtp.gmail.com\", port, context=context) as server:\n",
    "        server.login(gmail_login, pw)\n",
    "        message_str = message.as_string()\n",
    "        server.sendmail(gmail_login, reciever_email, message_str)\n",
    "else:\n",
    "    os.system(\"rm \"+ sk_new_notebook)\n",
    "    print(\"Removed notebook: \", sk_new_notebook)"
   ]
  },
  {
   "cell_type": "code",
   "execution_count": null,
   "metadata": {},
   "outputs": [],
   "source": []
  },
  {
   "cell_type": "code",
   "execution_count": null,
   "metadata": {},
   "outputs": [],
   "source": []
  },
  {
   "cell_type": "code",
   "execution_count": null,
   "metadata": {},
   "outputs": [],
   "source": [
    "message = MIMEMultipart()\n",
    "message[\"From\"] = sender_email\n",
    "message[\"To\"] = reciever_email\n",
    "port = 465\n",
    "context = ssl.create_default_context()"
   ]
  },
  {
   "cell_type": "code",
   "execution_count": null,
   "metadata": {},
   "outputs": [],
   "source": [
    "if isinstance(tm_error, str):\n",
    "    subject = \"Error in Ticketmaster Runner_\"+today_str\n",
    "    message[\"Subject\"] = subject\n",
    "\n",
    "    \n",
    "    body = \"\"\"\n",
    "        There was an error in Scraping Ticketmaster data. \n",
    "\n",
    "        Stack Trace: \n",
    "\n",
    "        \"\"\" + tm_error\n",
    "    \n",
    "    text = MIMEText(body, \"plain\")\n",
    "    \n",
    "    message.attach(text)\n",
    "\n",
    "    try:\n",
    "        html_path = wrap_as_html(tm_new_notebook)\n",
    "        html_attachment = create_html_attachment(html_path)\n",
    "        message.attach(html_attachment)\n",
    "\n",
    "    except Exception as e: \n",
    "        print(e)\n",
    "        body = body + \" \\n\\n Error attaching notebook... WIP \\n\\n\" + str(e)\n",
    "  \n",
    "    \n",
    "    with smtplib.SMTP_SSL(\"smtp.gmail.com\", port, context=context) as server:\n",
    "        server.login(gmail_login, pw)\n",
    "        server.sendmail(gmail_login, reciever_email, message)\n",
    "else: \n",
    "    os.system(\"rm \"+ tm_new_notebook)\n",
    "    print(\"removed notebook: \", tm_new_notebook)"
   ]
  },
  {
   "cell_type": "code",
   "execution_count": null,
   "metadata": {},
   "outputs": [],
   "source": []
  },
  {
   "cell_type": "markdown",
   "metadata": {},
   "source": [
    "## Clean up "
   ]
  },
  {
   "cell_type": "code",
   "execution_count": null,
   "metadata": {},
   "outputs": [],
   "source": []
  }
 ],
 "metadata": {
  "kernelspec": {
   "display_name": "Python 3",
   "language": "python",
   "name": "python3"
  },
  "language_info": {
   "codemirror_mode": {
    "name": "ipython",
    "version": 3
   },
   "file_extension": ".py",
   "mimetype": "text/x-python",
   "name": "python",
   "nbconvert_exporter": "python",
   "pygments_lexer": "ipython3",
   "version": "3.8.5"
  },
  "toc": {
   "base_numbering": 1,
   "nav_menu": {},
   "number_sections": true,
   "sideBar": true,
   "skip_h1_title": false,
   "title_cell": "Table of Contents",
   "title_sidebar": "Contents",
   "toc_cell": false,
   "toc_position": {},
   "toc_section_display": true,
   "toc_window_display": false
  }
 },
 "nbformat": 4,
 "nbformat_minor": 4
}
