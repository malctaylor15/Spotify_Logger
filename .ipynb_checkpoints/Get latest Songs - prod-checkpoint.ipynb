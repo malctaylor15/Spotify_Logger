{
 "cells": [
  {
   "cell_type": "code",
   "execution_count": 19,
   "metadata": {},
   "outputs": [],
   "source": [
    "import os \n",
    "import sys \n",
    "import pandas as pd \n",
    "import numpy as np \n",
    "import re\n",
    "import pickle\n",
    "import json\n",
    "import sqlite3\n",
    "from pprint import pprint\n",
    "import datetime"
   ]
  },
  {
   "cell_type": "code",
   "execution_count": 20,
   "metadata": {},
   "outputs": [],
   "source": [
    "import spotipy\n",
    "from spotipy.oauth2 import SpotifyClientCredentials, SpotifyOAuth"
   ]
  },
  {
   "cell_type": "code",
   "execution_count": 21,
   "metadata": {},
   "outputs": [
    {
     "name": "stdout",
     "output_type": "stream",
     "text": [
      "The autoreload extension is already loaded. To reload it, use:\n",
      "  %reload_ext autoreload\n"
     ]
    }
   ],
   "source": [
    "%load_ext autoreload\n",
    "%autoreload 2"
   ]
  },
  {
   "cell_type": "code",
   "execution_count": 22,
   "metadata": {},
   "outputs": [],
   "source": [
    "with open('data/spotify_creds.pkl', 'rb') as hnd:\n",
    "    credentials = pickle.load(hnd)"
   ]
  },
  {
   "cell_type": "code",
   "execution_count": 23,
   "metadata": {},
   "outputs": [],
   "source": [
    "os.environ.update(credentials)"
   ]
  },
  {
   "cell_type": "code",
   "execution_count": 24,
   "metadata": {},
   "outputs": [],
   "source": [
    "scope = \"user-read-recently-played\""
   ]
  },
  {
   "cell_type": "code",
   "execution_count": 25,
   "metadata": {},
   "outputs": [],
   "source": [
    "os.environ['SPOTIPY_REDIRECT_URI'] = 'https://malcolm-taylor.info/'\n",
    "spotify = spotipy.Spotify(client_credentials_manager= SpotifyOAuth(scope=scope\n",
    "                                                                   , username='malchemist02'))"
   ]
  },
  {
   "cell_type": "code",
   "execution_count": null,
   "metadata": {},
   "outputs": [],
   "source": []
  },
  {
   "cell_type": "code",
   "execution_count": 26,
   "metadata": {},
   "outputs": [],
   "source": [
    "def split_utc_time_str(time_str):\n",
    "    part1 = datetime.datetime.fromisoformat(time_str.replace('Z', '+00:00')) - datetime.timedelta(hours=4)\n",
    "    date = str(part1.date())\n",
    "    time = str(part1.time().strftime('%H:%M'))\n",
    "    return(date, time)"
   ]
  },
  {
   "cell_type": "code",
   "execution_count": 46,
   "metadata": {},
   "outputs": [],
   "source": [
    "def get_recently_played(after=None):\n",
    "    recently_played = spotify.current_user_recently_played(after=after)\n",
    "    # Describe json \n",
    "    print('Getting songs at ', datetime.datetime.now())\n",
    "    before = recently_played['cursors']['before']\n",
    "    after = recently_played['cursors']['after']\n",
    "    n_items = len(recently_played['items'])\n",
    "    print(f'There are {n_items} songs between '\n",
    "          , datetime.datetime.fromtimestamp(int(before)/1000)\n",
    "          , '  and  '\n",
    "          , datetime.datetime.fromtimestamp(int(after)/1000))\n",
    "    \n",
    "    if n_items == 0:\n",
    "        return(pd.DataFrame(columns = ['name', 'artist_name', 'played_at_date', 'played_at_time'\n",
    "                            , 'duration_min', 'popularity'\n",
    "                            , 'song_uri', 'artist_id', 'playlist_id']))\n",
    "    \n",
    "    # Parse recently played output \n",
    "    songs_list = []\n",
    "    wanted_keys = ['name', 'duration_ms', 'popularity', 'uri']\n",
    "    for song in recently_played['items']:\n",
    "        temp_song_dict = {}\n",
    "        temp_song_dict['after_ts'] = after\n",
    "        temp_song_dict['played_at_date'], temp_song_dict['played_at_time'] = split_utc_time_str(song['played_at'])\n",
    "        for k in wanted_keys:\n",
    "            temp_song_dict[k] = song['track'][k]\n",
    "        \n",
    "        # Take first artist information \n",
    "        temp_song_dict['artist_name'] = song['track']['artists'][0]['name']\n",
    "        temp_song_dict['artist_id'] = song['track']['artists'][0]['uri']\n",
    "        temp_song_dict['playlist_id'] = song['context']['uri']\n",
    "        \n",
    "        songs_list.append(temp_song_dict)\n",
    "    \n",
    "    # Export cleanly \n",
    "    out_series = pd.DataFrame(songs_list)\n",
    "    out_series['duration_min'] = out_series['duration_ms']/60000.0\n",
    "    out_series = out_series.rename({'uri':'song_uri'}, axis=1) \n",
    "    out_series = out_series[['name', 'artist_name', 'played_at_date', 'played_at_time'\n",
    "                            , 'duration_min', 'popularity'\n",
    "                            , 'song_uri', 'artist_id', 'playlist_id', 'after_ts']]\n",
    "    \n",
    "    return(out_series)"
   ]
  },
  {
   "cell_type": "code",
   "execution_count": null,
   "metadata": {},
   "outputs": [],
   "source": []
  },
  {
   "cell_type": "code",
   "execution_count": 47,
   "metadata": {},
   "outputs": [],
   "source": [
    "db_location = 'listening_history.db'"
   ]
  },
  {
   "cell_type": "code",
   "execution_count": 48,
   "metadata": {},
   "outputs": [],
   "source": [
    "con = sqlite3.connect(db_location)"
   ]
  },
  {
   "cell_type": "code",
   "execution_count": null,
   "metadata": {},
   "outputs": [],
   "source": []
  },
  {
   "cell_type": "code",
   "execution_count": 49,
   "metadata": {},
   "outputs": [],
   "source": [
    "cursor = con.cursor()"
   ]
  },
  {
   "cell_type": "code",
   "execution_count": 50,
   "metadata": {},
   "outputs": [
    {
     "name": "stdout",
     "output_type": "stream",
     "text": [
      "Latest pull from  2020-08-01 01:37:06.069000\n"
     ]
    }
   ],
   "source": [
    "rslt = cursor.execute('select max(after_ts) from Listening_History').fetchone()\n",
    "latest_time_pull = rslt[0]\n",
    "print(\"Latest pull from \", \n",
    "datetime.datetime.fromtimestamp(int(latest_time_pull)/1000)) "
   ]
  },
  {
   "cell_type": "code",
   "execution_count": null,
   "metadata": {},
   "outputs": [],
   "source": []
  },
  {
   "cell_type": "code",
   "execution_count": 53,
   "metadata": {},
   "outputs": [
    {
     "name": "stdout",
     "output_type": "stream",
     "text": [
      "Getting songs at  2020-08-01 01:44:19.716487\n",
      "There are 1 songs between  2020-08-01 01:41:20.778000   and   2020-08-01 01:41:20.778000\n"
     ]
    }
   ],
   "source": [
    "newly_played = get_recently_played(latest_time_pull)"
   ]
  },
  {
   "cell_type": "code",
   "execution_count": 54,
   "metadata": {},
   "outputs": [
    {
     "data": {
      "text/html": [
       "<div>\n",
       "<style scoped>\n",
       "    .dataframe tbody tr th:only-of-type {\n",
       "        vertical-align: middle;\n",
       "    }\n",
       "\n",
       "    .dataframe tbody tr th {\n",
       "        vertical-align: top;\n",
       "    }\n",
       "\n",
       "    .dataframe thead th {\n",
       "        text-align: right;\n",
       "    }\n",
       "</style>\n",
       "<table border=\"1\" class=\"dataframe\">\n",
       "  <thead>\n",
       "    <tr style=\"text-align: right;\">\n",
       "      <th></th>\n",
       "      <th>name</th>\n",
       "      <th>artist_name</th>\n",
       "      <th>played_at_date</th>\n",
       "      <th>played_at_time</th>\n",
       "      <th>duration_min</th>\n",
       "      <th>popularity</th>\n",
       "      <th>song_uri</th>\n",
       "      <th>artist_id</th>\n",
       "      <th>playlist_id</th>\n",
       "      <th>after_ts</th>\n",
       "    </tr>\n",
       "  </thead>\n",
       "  <tbody>\n",
       "    <tr>\n",
       "      <th>0</th>\n",
       "      <td>Aléjate de Mí</td>\n",
       "      <td>Los 4</td>\n",
       "      <td>2020-08-01</td>\n",
       "      <td>01:41</td>\n",
       "      <td>4.244617</td>\n",
       "      <td>38</td>\n",
       "      <td>spotify:track:5cWdQGNMEHlq4VpAxApaX9</td>\n",
       "      <td>spotify:artist:4HIOOPiZCJm2MPRU8Cs4MK</td>\n",
       "      <td>spotify:playlist:5UJhGomjPYIXhtkJiTXMYR</td>\n",
       "      <td>1596260480778</td>\n",
       "    </tr>\n",
       "  </tbody>\n",
       "</table>\n",
       "</div>"
      ],
      "text/plain": [
       "            name artist_name played_at_date played_at_time  duration_min  \\\n",
       "0  Aléjate de Mí       Los 4     2020-08-01          01:41      4.244617   \n",
       "\n",
       "   popularity                              song_uri  \\\n",
       "0          38  spotify:track:5cWdQGNMEHlq4VpAxApaX9   \n",
       "\n",
       "                               artist_id  \\\n",
       "0  spotify:artist:4HIOOPiZCJm2MPRU8Cs4MK   \n",
       "\n",
       "                               playlist_id       after_ts  \n",
       "0  spotify:playlist:5UJhGomjPYIXhtkJiTXMYR  1596260480778  "
      ]
     },
     "execution_count": 54,
     "metadata": {},
     "output_type": "execute_result"
    }
   ],
   "source": [
    "newly_played.head()"
   ]
  },
  {
   "cell_type": "code",
   "execution_count": null,
   "metadata": {},
   "outputs": [],
   "source": []
  },
  {
   "cell_type": "code",
   "execution_count": null,
   "metadata": {},
   "outputs": [],
   "source": []
  },
  {
   "cell_type": "code",
   "execution_count": null,
   "metadata": {},
   "outputs": [],
   "source": []
  },
  {
   "cell_type": "code",
   "execution_count": 55,
   "metadata": {},
   "outputs": [],
   "source": [
    "newly_played.to_sql('Listening_History', con, if_exists='append' )"
   ]
  },
  {
   "cell_type": "code",
   "execution_count": 56,
   "metadata": {},
   "outputs": [],
   "source": [
    "con.commit()\n",
    "con.close()"
   ]
  },
  {
   "cell_type": "code",
   "execution_count": 57,
   "metadata": {},
   "outputs": [
    {
     "data": {
      "text/html": [
       "<div>\n",
       "<style scoped>\n",
       "    .dataframe tbody tr th:only-of-type {\n",
       "        vertical-align: middle;\n",
       "    }\n",
       "\n",
       "    .dataframe tbody tr th {\n",
       "        vertical-align: top;\n",
       "    }\n",
       "\n",
       "    .dataframe thead th {\n",
       "        text-align: right;\n",
       "    }\n",
       "</style>\n",
       "<table border=\"1\" class=\"dataframe\">\n",
       "  <thead>\n",
       "    <tr style=\"text-align: right;\">\n",
       "      <th></th>\n",
       "      <th>name</th>\n",
       "      <th>artist_name</th>\n",
       "      <th>played_at_date</th>\n",
       "      <th>played_at_time</th>\n",
       "      <th>duration_min</th>\n",
       "      <th>popularity</th>\n",
       "      <th>song_uri</th>\n",
       "      <th>artist_id</th>\n",
       "      <th>playlist_id</th>\n",
       "      <th>after_ts</th>\n",
       "    </tr>\n",
       "  </thead>\n",
       "  <tbody>\n",
       "    <tr>\n",
       "      <th>0</th>\n",
       "      <td>Aléjate de Mí</td>\n",
       "      <td>Los 4</td>\n",
       "      <td>2020-08-01</td>\n",
       "      <td>01:41</td>\n",
       "      <td>4.244617</td>\n",
       "      <td>38</td>\n",
       "      <td>spotify:track:5cWdQGNMEHlq4VpAxApaX9</td>\n",
       "      <td>spotify:artist:4HIOOPiZCJm2MPRU8Cs4MK</td>\n",
       "      <td>spotify:playlist:5UJhGomjPYIXhtkJiTXMYR</td>\n",
       "      <td>1596260480778</td>\n",
       "    </tr>\n",
       "  </tbody>\n",
       "</table>\n",
       "</div>"
      ],
      "text/plain": [
       "            name artist_name played_at_date played_at_time  duration_min  \\\n",
       "0  Aléjate de Mí       Los 4     2020-08-01          01:41      4.244617   \n",
       "\n",
       "   popularity                              song_uri  \\\n",
       "0          38  spotify:track:5cWdQGNMEHlq4VpAxApaX9   \n",
       "\n",
       "                               artist_id  \\\n",
       "0  spotify:artist:4HIOOPiZCJm2MPRU8Cs4MK   \n",
       "\n",
       "                               playlist_id       after_ts  \n",
       "0  spotify:playlist:5UJhGomjPYIXhtkJiTXMYR  1596260480778  "
      ]
     },
     "execution_count": 57,
     "metadata": {},
     "output_type": "execute_result"
    }
   ],
   "source": [
    "newly_played"
   ]
  },
  {
   "cell_type": "code",
   "execution_count": null,
   "metadata": {},
   "outputs": [],
   "source": []
  }
 ],
 "metadata": {
  "kernelspec": {
   "display_name": "Python 3",
   "language": "python",
   "name": "python3"
  },
  "language_info": {
   "codemirror_mode": {
    "name": "ipython",
    "version": 3
   },
   "file_extension": ".py",
   "mimetype": "text/x-python",
   "name": "python",
   "nbconvert_exporter": "python",
   "pygments_lexer": "ipython3",
   "version": "3.8.5"
  },
  "toc": {
   "base_numbering": 1,
   "nav_menu": {},
   "number_sections": true,
   "sideBar": true,
   "skip_h1_title": false,
   "title_cell": "Table of Contents",
   "title_sidebar": "Contents",
   "toc_cell": false,
   "toc_position": {},
   "toc_section_display": true,
   "toc_window_display": false
  }
 },
 "nbformat": 4,
 "nbformat_minor": 4
}
