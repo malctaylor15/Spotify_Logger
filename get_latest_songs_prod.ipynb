{
 "cells": [
  {
   "cell_type": "code",
   "execution_count": 1,
   "metadata": {},
   "outputs": [],
   "source": [
    "import os \n",
    "import sys \n",
    "import pandas as pd \n",
    "import re\n",
    "import pickle\n",
    "import json\n",
    "import sqlite3\n",
    "from pprint import pprint\n",
    "import datetime\n",
    "import pdb"
   ]
  },
  {
   "cell_type": "code",
   "execution_count": 2,
   "metadata": {},
   "outputs": [
    {
     "data": {
      "text/plain": [
       "'3.6.9 (default, Oct  8 2020, 12:12:24) \\n[GCC 8.4.0]'"
      ]
     },
     "execution_count": 2,
     "metadata": {},
     "output_type": "execute_result"
    }
   ],
   "source": [
    "sys.version"
   ]
  },
  {
   "cell_type": "code",
   "execution_count": 3,
   "metadata": {},
   "outputs": [],
   "source": [
    "import spotipy\n",
    "from spotipy.oauth2 import SpotifyClientCredentials, SpotifyOAuth"
   ]
  },
  {
   "cell_type": "code",
   "execution_count": 4,
   "metadata": {},
   "outputs": [],
   "source": [
    "%load_ext autoreload\n",
    "%autoreload 2"
   ]
  },
  {
   "cell_type": "markdown",
   "metadata": {},
   "source": [
    "## Set up "
   ]
  },
  {
   "cell_type": "code",
   "execution_count": 5,
   "metadata": {},
   "outputs": [],
   "source": [
    "with open('../credentials/spotify_creds.pkl', 'rb') as hnd:\n",
    "    credentials = pickle.load(hnd)"
   ]
  },
  {
   "cell_type": "code",
   "execution_count": 6,
   "metadata": {},
   "outputs": [],
   "source": [
    "os.environ.update(credentials)"
   ]
  },
  {
   "cell_type": "code",
   "execution_count": 7,
   "metadata": {},
   "outputs": [],
   "source": [
    "scope = \"user-read-recently-played\""
   ]
  },
  {
   "cell_type": "code",
   "execution_count": 8,
   "metadata": {},
   "outputs": [],
   "source": [
    "spotify = spotipy.Spotify(client_credentials_manager= SpotifyOAuth(scope=scope\n",
    "                                                                   , username='malchemist02'))"
   ]
  },
  {
   "cell_type": "code",
   "execution_count": null,
   "metadata": {},
   "outputs": [],
   "source": []
  },
  {
   "cell_type": "markdown",
   "metadata": {},
   "source": [
    "## Functions"
   ]
  },
  {
   "cell_type": "code",
   "execution_count": 9,
   "metadata": {},
   "outputs": [],
   "source": [
    "def split_utc_time_str(time_str):\n",
    "    if '.' in time_str:\n",
    "        part1 = datetime.datetime.strptime(time_str, '%Y-%m-%dT%H:%M:%S.%fZ') - datetime.timedelta(hours=4)\n",
    "    else:\n",
    "        part1 = datetime.datetime.strptime(time_str, '%Y-%m-%dT%H:%M:%SZ') - datetime.timedelta(hours=4)\n",
    "    date = str(part1.date())\n",
    "    time = str(part1.time().strftime('%H:%M'))\n",
    "    return(date, time)"
   ]
  },
  {
   "cell_type": "code",
   "execution_count": 10,
   "metadata": {},
   "outputs": [
    {
     "data": {
      "text/plain": [
       "('2020-11-13', '17:32')"
      ]
     },
     "execution_count": 10,
     "metadata": {},
     "output_type": "execute_result"
    }
   ],
   "source": [
    "split_utc_time_str('2020-11-13T21:32:20Z')"
   ]
  },
  {
   "cell_type": "code",
   "execution_count": 11,
   "metadata": {},
   "outputs": [],
   "source": [
    "def get_recently_played(after=None):\n",
    "    recently_played = spotify.current_user_recently_played(after=after)\n",
    "    # Describe json \n",
    "    print('Getting songs at ', datetime.datetime.now())\n",
    "    \n",
    "    if recently_played['cursors'] == None:\n",
    "        return(pd.DataFrame(columns = ['name', 'artist_name', 'played_at_date', 'played_at_time'\n",
    "                            , 'duration_min', 'popularity'\n",
    "                            , 'song_uri', 'artist_id', 'playlist_id']))\n",
    "    \n",
    "    before = recently_played['cursors']['before']\n",
    "    after = recently_played['cursors']['after']\n",
    "    n_items = len(recently_played['items'])\n",
    "    print(f'There are {n_items} songs between '\n",
    "          , datetime.datetime.fromtimestamp(int(before)/1000)\n",
    "          , '  and  '\n",
    "          , datetime.datetime.fromtimestamp(int(after)/1000))\n",
    "    \n",
    "    if n_items == 0:\n",
    "        return(pd.DataFrame(columns = ['name', 'artist_name', 'played_at_date', 'played_at_time'\n",
    "                            , 'duration_min', 'popularity'\n",
    "                            , 'song_uri', 'artist_id', 'playlist_id']))\n",
    "    \n",
    "    # Parse recently played output \n",
    "    songs_list = []\n",
    "    wanted_keys = ['name', 'duration_ms', 'popularity', 'uri']\n",
    "    for song in recently_played['items']:\n",
    "        temp_song_dict = {}\n",
    "        temp_song_dict['after_ts'] = after\n",
    "        temp_song_dict['played_at_date'], temp_song_dict['played_at_time'] = split_utc_time_str(song['played_at'])\n",
    "        for k in wanted_keys:\n",
    "            temp_song_dict[k] = song['track'][k]\n",
    "            \n",
    "        # Take first artist information \n",
    "        temp_song_dict['artist_name'] = song['track']['artists'][0]['name'] \n",
    "        temp_song_dict['artist_id'] = song['track']['artists'][0]['uri']\n",
    "\n",
    "        if song['context'] != None:\n",
    "            temp_song_dict['playlist_id'] = song['context']['uri']\n",
    "        else:\n",
    "            temp_song_dict['playlist_id'] = None\n",
    "        songs_list.append(temp_song_dict)\n",
    "\n",
    "    \n",
    "    # Export cleanly \n",
    "    out_series = pd.DataFrame(songs_list)\n",
    "    out_series['duration_min'] = out_series['duration_ms']/60000.0\n",
    "    out_series = out_series.rename({'uri':'song_uri'}, axis=1) \n",
    "    out_series = out_series[['name', 'artist_name', 'played_at_date', 'played_at_time'\n",
    "                            , 'duration_min', 'popularity'\n",
    "                            , 'song_uri', 'artist_id', 'playlist_id', 'after_ts']]\n",
    "    \n",
    "    return(out_series)"
   ]
  },
  {
   "cell_type": "code",
   "execution_count": null,
   "metadata": {},
   "outputs": [],
   "source": []
  },
  {
   "cell_type": "markdown",
   "metadata": {},
   "source": [
    "## Get time of last Spotify Pull"
   ]
  },
  {
   "cell_type": "code",
   "execution_count": 12,
   "metadata": {
    "tags": [
     "parameters"
    ]
   },
   "outputs": [],
   "source": [
    "db_location = 'data/listening_history.db'"
   ]
  },
  {
   "cell_type": "code",
   "execution_count": 13,
   "metadata": {},
   "outputs": [],
   "source": [
    "con = sqlite3.connect(db_location)"
   ]
  },
  {
   "cell_type": "code",
   "execution_count": 14,
   "metadata": {},
   "outputs": [],
   "source": [
    "cursor = con.cursor()"
   ]
  },
  {
   "cell_type": "code",
   "execution_count": 15,
   "metadata": {},
   "outputs": [
    {
     "name": "stdout",
     "output_type": "stream",
     "text": [
      "Latest pull from  2020-12-15 16:46:49.647000\n"
     ]
    }
   ],
   "source": [
    "try:\n",
    "    rslt = cursor.execute('select max(after_ts) from Listening_History').fetchone()\n",
    "    latest_time_pull = rslt[0]\n",
    "    print(\"Latest pull from \", \n",
    "    datetime.datetime.fromtimestamp(int(latest_time_pull)/1000)) \n",
    "except Exception as e:\n",
    "    # Mainly for first run through when table doesn't exist yet \n",
    "    ## Will take the latest recent history available \n",
    "    print(e)\n",
    "    latest_time_pull = None"
   ]
  },
  {
   "cell_type": "code",
   "execution_count": 16,
   "metadata": {
    "scrolled": true
   },
   "outputs": [
    {
     "data": {
      "text/plain": [
       "('2020-11-13', '17:32')"
      ]
     },
     "execution_count": 16,
     "metadata": {},
     "output_type": "execute_result"
    }
   ],
   "source": [
    "split_utc_time_str('2020-11-13T21:32:20Z')"
   ]
  },
  {
   "cell_type": "markdown",
   "metadata": {},
   "source": [
    "## Pull from Spotify and Store to DB "
   ]
  },
  {
   "cell_type": "code",
   "execution_count": 17,
   "metadata": {},
   "outputs": [
    {
     "name": "stdout",
     "output_type": "stream",
     "text": [
      "Getting songs at  2020-12-15 18:54:00.424853\n",
      "There are 2 songs between  2020-12-15 18:49:57.497000   and   2020-12-15 18:52:51.661000\n"
     ]
    }
   ],
   "source": [
    "newly_played = get_recently_played(latest_time_pull)"
   ]
  },
  {
   "cell_type": "code",
   "execution_count": 18,
   "metadata": {},
   "outputs": [
    {
     "data": {
      "text/html": [
       "<div>\n",
       "<style scoped>\n",
       "    .dataframe tbody tr th:only-of-type {\n",
       "        vertical-align: middle;\n",
       "    }\n",
       "\n",
       "    .dataframe tbody tr th {\n",
       "        vertical-align: top;\n",
       "    }\n",
       "\n",
       "    .dataframe thead th {\n",
       "        text-align: right;\n",
       "    }\n",
       "</style>\n",
       "<table border=\"1\" class=\"dataframe\">\n",
       "  <thead>\n",
       "    <tr style=\"text-align: right;\">\n",
       "      <th></th>\n",
       "      <th>name</th>\n",
       "      <th>artist_name</th>\n",
       "      <th>played_at_date</th>\n",
       "      <th>played_at_time</th>\n",
       "      <th>duration_min</th>\n",
       "      <th>popularity</th>\n",
       "      <th>song_uri</th>\n",
       "      <th>artist_id</th>\n",
       "      <th>playlist_id</th>\n",
       "      <th>after_ts</th>\n",
       "    </tr>\n",
       "  </thead>\n",
       "  <tbody>\n",
       "    <tr>\n",
       "      <th>0</th>\n",
       "      <td>34+35</td>\n",
       "      <td>Ariana Grande</td>\n",
       "      <td>2020-12-15</td>\n",
       "      <td>14:52</td>\n",
       "      <td>2.895167</td>\n",
       "      <td>95</td>\n",
       "      <td>spotify:track:6Im9k8u9iIzKMrmV7BWtlF</td>\n",
       "      <td>spotify:artist:66CXWjxzNUsdJxJ2JdwvnR</td>\n",
       "      <td>spotify:artist:66CXWjxzNUsdJxJ2JdwvnR</td>\n",
       "      <td>1608058371661</td>\n",
       "    </tr>\n",
       "    <tr>\n",
       "      <th>1</th>\n",
       "      <td>positions</td>\n",
       "      <td>Ariana Grande</td>\n",
       "      <td>2020-12-15</td>\n",
       "      <td>14:49</td>\n",
       "      <td>2.872067</td>\n",
       "      <td>98</td>\n",
       "      <td>spotify:track:35mvY5S1H3J2QZyna3TFe0</td>\n",
       "      <td>spotify:artist:66CXWjxzNUsdJxJ2JdwvnR</td>\n",
       "      <td>spotify:artist:66CXWjxzNUsdJxJ2JdwvnR</td>\n",
       "      <td>1608058371661</td>\n",
       "    </tr>\n",
       "  </tbody>\n",
       "</table>\n",
       "</div>"
      ],
      "text/plain": [
       "        name    artist_name played_at_date played_at_time  duration_min  \\\n",
       "0      34+35  Ariana Grande     2020-12-15          14:52      2.895167   \n",
       "1  positions  Ariana Grande     2020-12-15          14:49      2.872067   \n",
       "\n",
       "   popularity                              song_uri  \\\n",
       "0          95  spotify:track:6Im9k8u9iIzKMrmV7BWtlF   \n",
       "1          98  spotify:track:35mvY5S1H3J2QZyna3TFe0   \n",
       "\n",
       "                               artist_id  \\\n",
       "0  spotify:artist:66CXWjxzNUsdJxJ2JdwvnR   \n",
       "1  spotify:artist:66CXWjxzNUsdJxJ2JdwvnR   \n",
       "\n",
       "                             playlist_id       after_ts  \n",
       "0  spotify:artist:66CXWjxzNUsdJxJ2JdwvnR  1608058371661  \n",
       "1  spotify:artist:66CXWjxzNUsdJxJ2JdwvnR  1608058371661  "
      ]
     },
     "execution_count": 18,
     "metadata": {},
     "output_type": "execute_result"
    }
   ],
   "source": [
    "newly_played.head()"
   ]
  },
  {
   "cell_type": "code",
   "execution_count": 19,
   "metadata": {},
   "outputs": [],
   "source": [
    "con = sqlite3.connect(db_location)\n",
    "newly_played.to_sql('Listening_History', con, if_exists='append' )"
   ]
  },
  {
   "cell_type": "code",
   "execution_count": 20,
   "metadata": {},
   "outputs": [],
   "source": [
    "con.commit()\n",
    "con.close()"
   ]
  },
  {
   "cell_type": "code",
   "execution_count": null,
   "metadata": {},
   "outputs": [],
   "source": []
  },
  {
   "cell_type": "markdown",
   "metadata": {},
   "source": [
    "## Get Artist Info "
   ]
  },
  {
   "cell_type": "raw",
   "metadata": {},
   "source": [
    "artists_all = newly_played['artist_id'].unique().tolist()\n",
    "artists_all = list(set(artists_all))\n",
    "artists_all"
   ]
  },
  {
   "cell_type": "raw",
   "metadata": {},
   "source": [
    "artists_rslt = spotify.artists(artists_all)\n",
    "artists_rslt"
   ]
  },
  {
   "cell_type": "raw",
   "metadata": {},
   "source": [
    "def parse_artist_rslt(artist_dict):\n",
    "    out = {}\n",
    "    out['artist_name'] = artist_dict.get('name')\n",
    "    out['artist_id'] = artist_dict.get('id')\n",
    "    out['followers'] = artist_dict.get('followers').get('total')\n",
    "    out['genres'] = artist_dict.get('genres')\n",
    "    out['popularity'] = artist_dict.get('popularity')\n",
    "    out['pull_date'] = datetime.datetime.now().date()\n",
    "    out_series = pd.Series(out)\n",
    "    return(out_series)"
   ]
  },
  {
   "cell_type": "raw",
   "metadata": {},
   "source": [
    "artist_series = [parse_artist_rslt(x) for x in artists_rslt['artists']]\n",
    "artist_df = pd.concat(artist_series, axis=1).T\n",
    "artist_df"
   ]
  },
  {
   "cell_type": "code",
   "execution_count": null,
   "metadata": {},
   "outputs": [],
   "source": []
  }
 ],
 "metadata": {
  "kernelspec": {
   "display_name": "Python 3",
   "language": "python",
   "name": "python3"
  },
  "language_info": {
   "codemirror_mode": {
    "name": "ipython",
    "version": 3
   },
   "file_extension": ".py",
   "mimetype": "text/x-python",
   "name": "python",
   "nbconvert_exporter": "python",
   "pygments_lexer": "ipython3",
   "version": "3.6.9"
  },
  "toc": {
   "base_numbering": 1,
   "nav_menu": {},
   "number_sections": true,
   "sideBar": true,
   "skip_h1_title": false,
   "title_cell": "Table of Contents",
   "title_sidebar": "Contents",
   "toc_cell": false,
   "toc_position": {},
   "toc_section_display": true,
   "toc_window_display": false
  }
 },
 "nbformat": 4,
 "nbformat_minor": 4
}
