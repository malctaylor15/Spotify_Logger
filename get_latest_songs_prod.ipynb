{
 "cells": [
  {
   "cell_type": "code",
   "execution_count": 145,
   "metadata": {},
   "outputs": [],
   "source": [
    "import os \n",
    "import sys \n",
    "import pandas as pd \n",
    "import re\n",
    "import pickle\n",
    "import json\n",
    "import sqlite3\n",
    "from pprint import pprint\n",
    "import datetime\n",
    "import pdb"
   ]
  },
  {
   "cell_type": "code",
   "execution_count": 146,
   "metadata": {},
   "outputs": [
    {
     "data": {
      "text/plain": [
       "'3.6.9 (default, Oct  8 2020, 12:12:24) \\n[GCC 8.4.0]'"
      ]
     },
     "execution_count": 146,
     "metadata": {},
     "output_type": "execute_result"
    }
   ],
   "source": [
    "sys.version"
   ]
  },
  {
   "cell_type": "code",
   "execution_count": 147,
   "metadata": {},
   "outputs": [],
   "source": [
    "import spotipy\n",
    "from spotipy.oauth2 import SpotifyClientCredentials, SpotifyOAuth"
   ]
  },
  {
   "cell_type": "code",
   "execution_count": 148,
   "metadata": {},
   "outputs": [
    {
     "name": "stdout",
     "output_type": "stream",
     "text": [
      "The autoreload extension is already loaded. To reload it, use:\n",
      "  %reload_ext autoreload\n"
     ]
    }
   ],
   "source": [
    "%load_ext autoreload\n",
    "%autoreload 2"
   ]
  },
  {
   "cell_type": "markdown",
   "metadata": {},
   "source": [
    "## Set up "
   ]
  },
  {
   "cell_type": "code",
   "execution_count": 149,
   "metadata": {},
   "outputs": [],
   "source": [
    "with open('../credentials/spotify_creds.pkl', 'rb') as hnd:\n",
    "    credentials = pickle.load(hnd)"
   ]
  },
  {
   "cell_type": "code",
   "execution_count": 150,
   "metadata": {},
   "outputs": [],
   "source": [
    "os.environ.update(credentials)"
   ]
  },
  {
   "cell_type": "code",
   "execution_count": 151,
   "metadata": {},
   "outputs": [],
   "source": [
    "scope = \"user-read-recently-played\""
   ]
  },
  {
   "cell_type": "code",
   "execution_count": 152,
   "metadata": {},
   "outputs": [],
   "source": [
    "spotify = spotipy.Spotify(client_credentials_manager= SpotifyOAuth(scope=scope\n",
    "                                                                   , username='malchemist02'))"
   ]
  },
  {
   "cell_type": "code",
   "execution_count": null,
   "metadata": {},
   "outputs": [],
   "source": []
  },
  {
   "cell_type": "markdown",
   "metadata": {},
   "source": [
    "## Functions"
   ]
  },
  {
   "cell_type": "code",
   "execution_count": 153,
   "metadata": {},
   "outputs": [],
   "source": [
    "def split_utc_time_str(time_str):\n",
    "    if '.' in time_str:\n",
    "        part1 = datetime.datetime.strptime(time_str, '%Y-%m-%dT%H:%M:%S.%fZ') - datetime.timedelta(hours=4)\n",
    "    else:\n",
    "        part1 = datetime.datetime.strptime(time_str, '%Y-%m-%dT%H:%M:%SZ') - datetime.timedelta(hours=4)\n",
    "    date = str(part1.date())\n",
    "    time = str(part1.time().strftime('%H:%M'))\n",
    "    return(date, time)"
   ]
  },
  {
   "cell_type": "code",
   "execution_count": 154,
   "metadata": {},
   "outputs": [],
   "source": [
    "def get_recently_played(after=None):\n",
    "    recently_played = spotify.current_user_recently_played(after=after)\n",
    "    # Describe json \n",
    "    print('Getting songs at ', datetime.datetime.now())\n",
    "    \n",
    "    if recently_played['cursors'] == None:\n",
    "        return(pd.DataFrame(columns = ['name', 'artist_name', 'played_at_date', 'played_at_time'\n",
    "                            , 'duration_min', 'popularity'\n",
    "                            , 'song_uri', 'artist_id', 'playlist_id']))\n",
    "    \n",
    "    before = recently_played['cursors']['before']\n",
    "    after = recently_played['cursors']['after']\n",
    "    n_items = len(recently_played['items'])\n",
    "    print(f'There are {n_items} songs between '\n",
    "          , datetime.datetime.fromtimestamp(int(before)/1000)\n",
    "          , '  and  '\n",
    "          , datetime.datetime.fromtimestamp(int(after)/1000))\n",
    "    \n",
    "    if n_items == 0:\n",
    "        return(pd.DataFrame(columns = ['name', 'artist_name', 'played_at_date', 'played_at_time'\n",
    "                            , 'duration_min', 'popularity'\n",
    "                            , 'song_uri', 'artist_id', 'playlist_id']))\n",
    "    \n",
    "    # Parse recently played output \n",
    "    songs_list = []\n",
    "    wanted_keys = ['name', 'duration_ms', 'popularity', 'uri']\n",
    "    for song in recently_played['items']:\n",
    "        temp_song_dict = {}\n",
    "        temp_song_dict['after_ts'] = after\n",
    "        temp_song_dict['played_at_date'], temp_song_dict['played_at_time'] = split_utc_time_str(song['played_at'])\n",
    "        for k in wanted_keys:\n",
    "            temp_song_dict[k] = song['track'][k]\n",
    "            \n",
    "        # Take first artist information \n",
    "        temp_song_dict['artist_name'] = song['track']['artists'][0]['name'] \n",
    "        temp_song_dict['artist_id'] = song['track']['artists'][0]['uri']\n",
    "\n",
    "        if song['context'] != None:\n",
    "            temp_song_dict['playlist_id'] = song['context']['uri']\n",
    "        else:\n",
    "            temp_song_dict['playlist_id'] = None\n",
    "        songs_list.append(temp_song_dict)\n",
    "\n",
    "    \n",
    "    # Export cleanly \n",
    "    out_series = pd.DataFrame(songs_list)\n",
    "    out_series['duration_min'] = out_series['duration_ms']/60000.0\n",
    "    out_series = out_series.rename({'uri':'song_uri'}, axis=1) \n",
    "    out_series = out_series[['name', 'artist_name', 'played_at_date', 'played_at_time'\n",
    "                            , 'duration_min', 'popularity'\n",
    "                            , 'song_uri', 'artist_id', 'playlist_id', 'after_ts']]\n",
    "    \n",
    "    return(out_series)"
   ]
  },
  {
   "cell_type": "code",
   "execution_count": null,
   "metadata": {},
   "outputs": [],
   "source": []
  },
  {
   "cell_type": "markdown",
   "metadata": {},
   "source": [
    "## Get time of last Spotify Pull"
   ]
  },
  {
   "cell_type": "code",
   "execution_count": null,
   "metadata": {},
   "outputs": [],
   "source": []
  },
  {
   "cell_type": "code",
   "execution_count": 155,
   "metadata": {
    "tags": [
     "parameters"
    ]
   },
   "outputs": [],
   "source": [
    "db_location = 'data/listening_history.db'"
   ]
  },
  {
   "cell_type": "code",
   "execution_count": 156,
   "metadata": {},
   "outputs": [],
   "source": [
    "con = sqlite3.connect(db_location)\n",
    "cursor = con.cursor()"
   ]
  },
  {
   "cell_type": "code",
   "execution_count": null,
   "metadata": {},
   "outputs": [],
   "source": []
  },
  {
   "cell_type": "code",
   "execution_count": 157,
   "metadata": {},
   "outputs": [
    {
     "name": "stdout",
     "output_type": "stream",
     "text": [
      "Latest pull from  2021-01-22 22:15:54.798000\n"
     ]
    }
   ],
   "source": [
    "try:\n",
    "    rslt = cursor.execute('select max(after_ts) from Listening_History').fetchone()\n",
    "    latest_time_pull = rslt[0]\n",
    "    print(\"Latest pull from \", \n",
    "    datetime.datetime.fromtimestamp(int(latest_time_pull)/1000)) \n",
    "except Exception as e:\n",
    "    # Mainly for first run through when table doesn't exist yet \n",
    "    ## Will take the latest recent history available \n",
    "    print(e)\n",
    "    latest_time_pull = None"
   ]
  },
  {
   "cell_type": "markdown",
   "metadata": {},
   "source": [
    "## Pull from Spotify and Store to DB "
   ]
  },
  {
   "cell_type": "code",
   "execution_count": 159,
   "metadata": {},
   "outputs": [
    {
     "name": "stdout",
     "output_type": "stream",
     "text": [
      "Getting songs at  2021-01-22 22:45:31.885004\n",
      "There are 5 songs between  2021-01-22 22:20:19.177000   and   2021-01-22 22:35:45.667000\n"
     ]
    }
   ],
   "source": [
    "newly_played = get_recently_played(latest_time_pull)"
   ]
  },
  {
   "cell_type": "code",
   "execution_count": 160,
   "metadata": {},
   "outputs": [
    {
     "data": {
      "text/html": [
       "<div>\n",
       "<style scoped>\n",
       "    .dataframe tbody tr th:only-of-type {\n",
       "        vertical-align: middle;\n",
       "    }\n",
       "\n",
       "    .dataframe tbody tr th {\n",
       "        vertical-align: top;\n",
       "    }\n",
       "\n",
       "    .dataframe thead th {\n",
       "        text-align: right;\n",
       "    }\n",
       "</style>\n",
       "<table border=\"1\" class=\"dataframe\">\n",
       "  <thead>\n",
       "    <tr style=\"text-align: right;\">\n",
       "      <th></th>\n",
       "      <th>name</th>\n",
       "      <th>artist_name</th>\n",
       "      <th>played_at_date</th>\n",
       "      <th>played_at_time</th>\n",
       "      <th>duration_min</th>\n",
       "      <th>popularity</th>\n",
       "      <th>song_uri</th>\n",
       "      <th>artist_id</th>\n",
       "      <th>playlist_id</th>\n",
       "      <th>after_ts</th>\n",
       "    </tr>\n",
       "  </thead>\n",
       "  <tbody>\n",
       "    <tr>\n",
       "      <th>0</th>\n",
       "      <td>La Figura (Como Te Gusta Mami)</td>\n",
       "      <td>Gente De Zona</td>\n",
       "      <td>2021-01-22</td>\n",
       "      <td>18:35</td>\n",
       "      <td>4.028217</td>\n",
       "      <td>37</td>\n",
       "      <td>spotify:track:2AeIBdjU4S5KaRqhx4OfIE</td>\n",
       "      <td>spotify:artist:2cy1zPcrFcXAJTP0APWewL</td>\n",
       "      <td>spotify:playlist:5UJhGomjPYIXhtkJiTXMYR</td>\n",
       "      <td>1611354945667</td>\n",
       "    </tr>\n",
       "    <tr>\n",
       "      <th>1</th>\n",
       "      <td>Como Volver A Ser Feliz</td>\n",
       "      <td>Luis Enrique</td>\n",
       "      <td>2021-01-22</td>\n",
       "      <td>18:31</td>\n",
       "      <td>4.200433</td>\n",
       "      <td>41</td>\n",
       "      <td>spotify:track:7vItT9jbQYaNAw1o5KVl7N</td>\n",
       "      <td>spotify:artist:2mUI4K6csTQd3jieswcmiI</td>\n",
       "      <td>spotify:playlist:5UJhGomjPYIXhtkJiTXMYR</td>\n",
       "      <td>1611354945667</td>\n",
       "    </tr>\n",
       "    <tr>\n",
       "      <th>2</th>\n",
       "      <td>Me Llamaré Tuyo (feat. Gocho) - Remix Version</td>\n",
       "      <td>Víctor Manuelle</td>\n",
       "      <td>2021-01-22</td>\n",
       "      <td>18:27</td>\n",
       "      <td>3.031333</td>\n",
       "      <td>40</td>\n",
       "      <td>spotify:track:6i9ipwB7w8dFwHYz3Mge0C</td>\n",
       "      <td>spotify:artist:4N5fp4zhTsVITZTVfsXpc2</td>\n",
       "      <td>spotify:playlist:5UJhGomjPYIXhtkJiTXMYR</td>\n",
       "      <td>1611354945667</td>\n",
       "    </tr>\n",
       "    <tr>\n",
       "      <th>3</th>\n",
       "      <td>Sabes</td>\n",
       "      <td>Luis Enrique</td>\n",
       "      <td>2021-01-22</td>\n",
       "      <td>18:24</td>\n",
       "      <td>4.181333</td>\n",
       "      <td>34</td>\n",
       "      <td>spotify:track:2gxBk9GFuAf18kwIAspriT</td>\n",
       "      <td>spotify:artist:2mUI4K6csTQd3jieswcmiI</td>\n",
       "      <td>spotify:playlist:5UJhGomjPYIXhtkJiTXMYR</td>\n",
       "      <td>1611354945667</td>\n",
       "    </tr>\n",
       "    <tr>\n",
       "      <th>4</th>\n",
       "      <td>Mayor Que Yo</td>\n",
       "      <td>Michael Stuart</td>\n",
       "      <td>2021-01-22</td>\n",
       "      <td>18:20</td>\n",
       "      <td>4.406217</td>\n",
       "      <td>35</td>\n",
       "      <td>spotify:track:0pj3zahwh1kZfEVicMhq87</td>\n",
       "      <td>spotify:artist:5iaO1NHFcaQigDtuJi0mhe</td>\n",
       "      <td>spotify:playlist:5UJhGomjPYIXhtkJiTXMYR</td>\n",
       "      <td>1611354945667</td>\n",
       "    </tr>\n",
       "  </tbody>\n",
       "</table>\n",
       "</div>"
      ],
      "text/plain": [
       "                                            name      artist_name  \\\n",
       "0                 La Figura (Como Te Gusta Mami)    Gente De Zona   \n",
       "1                        Como Volver A Ser Feliz     Luis Enrique   \n",
       "2  Me Llamaré Tuyo (feat. Gocho) - Remix Version  Víctor Manuelle   \n",
       "3                                          Sabes     Luis Enrique   \n",
       "4                                   Mayor Que Yo   Michael Stuart   \n",
       "\n",
       "  played_at_date played_at_time  duration_min  popularity  \\\n",
       "0     2021-01-22          18:35      4.028217          37   \n",
       "1     2021-01-22          18:31      4.200433          41   \n",
       "2     2021-01-22          18:27      3.031333          40   \n",
       "3     2021-01-22          18:24      4.181333          34   \n",
       "4     2021-01-22          18:20      4.406217          35   \n",
       "\n",
       "                               song_uri  \\\n",
       "0  spotify:track:2AeIBdjU4S5KaRqhx4OfIE   \n",
       "1  spotify:track:7vItT9jbQYaNAw1o5KVl7N   \n",
       "2  spotify:track:6i9ipwB7w8dFwHYz3Mge0C   \n",
       "3  spotify:track:2gxBk9GFuAf18kwIAspriT   \n",
       "4  spotify:track:0pj3zahwh1kZfEVicMhq87   \n",
       "\n",
       "                               artist_id  \\\n",
       "0  spotify:artist:2cy1zPcrFcXAJTP0APWewL   \n",
       "1  spotify:artist:2mUI4K6csTQd3jieswcmiI   \n",
       "2  spotify:artist:4N5fp4zhTsVITZTVfsXpc2   \n",
       "3  spotify:artist:2mUI4K6csTQd3jieswcmiI   \n",
       "4  spotify:artist:5iaO1NHFcaQigDtuJi0mhe   \n",
       "\n",
       "                               playlist_id       after_ts  \n",
       "0  spotify:playlist:5UJhGomjPYIXhtkJiTXMYR  1611354945667  \n",
       "1  spotify:playlist:5UJhGomjPYIXhtkJiTXMYR  1611354945667  \n",
       "2  spotify:playlist:5UJhGomjPYIXhtkJiTXMYR  1611354945667  \n",
       "3  spotify:playlist:5UJhGomjPYIXhtkJiTXMYR  1611354945667  \n",
       "4  spotify:playlist:5UJhGomjPYIXhtkJiTXMYR  1611354945667  "
      ]
     },
     "execution_count": 160,
     "metadata": {},
     "output_type": "execute_result"
    }
   ],
   "source": [
    "newly_played.head()"
   ]
  },
  {
   "cell_type": "code",
   "execution_count": 161,
   "metadata": {},
   "outputs": [],
   "source": [
    "con = sqlite3.connect(db_location)\n",
    "newly_played.to_sql('Listening_History', con, if_exists='append' )"
   ]
  },
  {
   "cell_type": "code",
   "execution_count": null,
   "metadata": {},
   "outputs": [],
   "source": []
  },
  {
   "cell_type": "markdown",
   "metadata": {},
   "source": [
    "## Get Artist Info "
   ]
  },
  {
   "cell_type": "code",
   "execution_count": 162,
   "metadata": {},
   "outputs": [
    {
     "data": {
      "text/plain": [
       "['Listening_History', 'Artists_Info']"
      ]
     },
     "execution_count": 162,
     "metadata": {},
     "output_type": "execute_result"
    }
   ],
   "source": [
    "tables = cursor.execute(\"SELECT name FROM sqlite_master WHERE type='table'\").fetchall()\n",
    "tables = [x[0] for x in tables]\n",
    "tables"
   ]
  },
  {
   "cell_type": "code",
   "execution_count": 163,
   "metadata": {},
   "outputs": [
    {
     "data": {
      "text/plain": [
       "'select artist_name, artist_id, pull_date from artists_info where pull_date > 2020-07-26'"
      ]
     },
     "execution_count": 163,
     "metadata": {},
     "output_type": "execute_result"
    }
   ],
   "source": [
    "six_months_ago = datetime.datetime.now() - datetime.timedelta(days=6*30)\n",
    "six_months_ago_str = str(six_months_ago.date())\n",
    "sql_statement = f'select artist_name, artist_id, pull_date from artists_info where pull_date > {six_months_ago_str}'\n",
    "sql_statement"
   ]
  },
  {
   "cell_type": "code",
   "execution_count": 164,
   "metadata": {},
   "outputs": [
    {
     "data": {
      "text/html": [
       "<div>\n",
       "<style scoped>\n",
       "    .dataframe tbody tr th:only-of-type {\n",
       "        vertical-align: middle;\n",
       "    }\n",
       "\n",
       "    .dataframe tbody tr th {\n",
       "        vertical-align: top;\n",
       "    }\n",
       "\n",
       "    .dataframe thead th {\n",
       "        text-align: right;\n",
       "    }\n",
       "</style>\n",
       "<table border=\"1\" class=\"dataframe\">\n",
       "  <thead>\n",
       "    <tr style=\"text-align: right;\">\n",
       "      <th></th>\n",
       "      <th>artist_name</th>\n",
       "      <th>artist_id</th>\n",
       "      <th>pull_date</th>\n",
       "      <th>uri</th>\n",
       "    </tr>\n",
       "  </thead>\n",
       "  <tbody>\n",
       "    <tr>\n",
       "      <th>1163</th>\n",
       "      <td>Joshua Bassett</td>\n",
       "      <td>spotify:artist:spotify:artist:4VdV2qRAYBLINR6u...</td>\n",
       "      <td>2021-01-22</td>\n",
       "      <td>spotify:artist:4VdV2qRAYBLINR6uU72V1J</td>\n",
       "    </tr>\n",
       "    <tr>\n",
       "      <th>1162</th>\n",
       "      <td>Ricky Montgomery</td>\n",
       "      <td>spotify:artist:spotify:artist:0ZUvK7zGdXLd78mQ...</td>\n",
       "      <td>2021-01-22</td>\n",
       "      <td>spotify:artist:0ZUvK7zGdXLd78mQr3t1Tw</td>\n",
       "    </tr>\n",
       "    <tr>\n",
       "      <th>1161</th>\n",
       "      <td>chloe moriondo</td>\n",
       "      <td>spotify:artist:spotify:artist:3P4vW5tzQvmuoNaF...</td>\n",
       "      <td>2021-01-22</td>\n",
       "      <td>spotify:artist:3P4vW5tzQvmuoNaFQqzy9q</td>\n",
       "    </tr>\n",
       "    <tr>\n",
       "      <th>1160</th>\n",
       "      <td>Harry Styles</td>\n",
       "      <td>spotify:artist:spotify:artist:6KImCVD70vtIoJWn...</td>\n",
       "      <td>2021-01-22</td>\n",
       "      <td>spotify:artist:6KImCVD70vtIoJWnq6nGn3</td>\n",
       "    </tr>\n",
       "    <tr>\n",
       "      <th>1159</th>\n",
       "      <td>Anuel AA</td>\n",
       "      <td>spotify:artist:spotify:artist:2R21vXR83lH98kGe...</td>\n",
       "      <td>2021-01-22</td>\n",
       "      <td>spotify:artist:2R21vXR83lH98kGeO99Y66</td>\n",
       "    </tr>\n",
       "    <tr>\n",
       "      <th>1158</th>\n",
       "      <td>BRS Kash</td>\n",
       "      <td>spotify:artist:spotify:artist:5jJjvmEwRr8epuGZ...</td>\n",
       "      <td>2021-01-22</td>\n",
       "      <td>spotify:artist:5jJjvmEwRr8epuGZq4eUUa</td>\n",
       "    </tr>\n",
       "    <tr>\n",
       "      <th>1157</th>\n",
       "      <td>Kim Mitzo Thompson</td>\n",
       "      <td>spotify:artist:spotify:artist:258Dm9AVtfbZA1w7...</td>\n",
       "      <td>2021-01-22</td>\n",
       "      <td>spotify:artist:258Dm9AVtfbZA1w7gnEtzq</td>\n",
       "    </tr>\n",
       "    <tr>\n",
       "      <th>771</th>\n",
       "      <td>Gene Autry</td>\n",
       "      <td>spotify:artist:spotify:artist:5ixB75BQR3ADoWQk...</td>\n",
       "      <td>2021-01-21</td>\n",
       "      <td>spotify:artist:5ixB75BQR3ADoWQkcHQJTs</td>\n",
       "    </tr>\n",
       "    <tr>\n",
       "      <th>778</th>\n",
       "      <td>Willy Chirino</td>\n",
       "      <td>spotify:artist:spotify:artist:4dvonCK12HCv1UUr...</td>\n",
       "      <td>2021-01-21</td>\n",
       "      <td>spotify:artist:4dvonCK12HCv1UUryzRppO</td>\n",
       "    </tr>\n",
       "    <tr>\n",
       "      <th>777</th>\n",
       "      <td>Lil Nas X</td>\n",
       "      <td>spotify:artist:spotify:artist:7jVv8c5Fj3E9VhNj...</td>\n",
       "      <td>2021-01-21</td>\n",
       "      <td>spotify:artist:7jVv8c5Fj3E9VhNjxT4snq</td>\n",
       "    </tr>\n",
       "  </tbody>\n",
       "</table>\n",
       "</div>"
      ],
      "text/plain": [
       "             artist_name                                          artist_id  \\\n",
       "1163      Joshua Bassett  spotify:artist:spotify:artist:4VdV2qRAYBLINR6u...   \n",
       "1162    Ricky Montgomery  spotify:artist:spotify:artist:0ZUvK7zGdXLd78mQ...   \n",
       "1161      chloe moriondo  spotify:artist:spotify:artist:3P4vW5tzQvmuoNaF...   \n",
       "1160        Harry Styles  spotify:artist:spotify:artist:6KImCVD70vtIoJWn...   \n",
       "1159            Anuel AA  spotify:artist:spotify:artist:2R21vXR83lH98kGe...   \n",
       "1158            BRS Kash  spotify:artist:spotify:artist:5jJjvmEwRr8epuGZ...   \n",
       "1157  Kim Mitzo Thompson  spotify:artist:spotify:artist:258Dm9AVtfbZA1w7...   \n",
       "771           Gene Autry  spotify:artist:spotify:artist:5ixB75BQR3ADoWQk...   \n",
       "778        Willy Chirino  spotify:artist:spotify:artist:4dvonCK12HCv1UUr...   \n",
       "777            Lil Nas X  spotify:artist:spotify:artist:7jVv8c5Fj3E9VhNj...   \n",
       "\n",
       "       pull_date                                    uri  \n",
       "1163  2021-01-22  spotify:artist:4VdV2qRAYBLINR6uU72V1J  \n",
       "1162  2021-01-22  spotify:artist:0ZUvK7zGdXLd78mQr3t1Tw  \n",
       "1161  2021-01-22  spotify:artist:3P4vW5tzQvmuoNaFQqzy9q  \n",
       "1160  2021-01-22  spotify:artist:6KImCVD70vtIoJWnq6nGn3  \n",
       "1159  2021-01-22  spotify:artist:2R21vXR83lH98kGeO99Y66  \n",
       "1158  2021-01-22  spotify:artist:5jJjvmEwRr8epuGZq4eUUa  \n",
       "1157  2021-01-22  spotify:artist:258Dm9AVtfbZA1w7gnEtzq  \n",
       "771   2021-01-21  spotify:artist:5ixB75BQR3ADoWQkcHQJTs  \n",
       "778   2021-01-21  spotify:artist:4dvonCK12HCv1UUryzRppO  \n",
       "777   2021-01-21  spotify:artist:7jVv8c5Fj3E9VhNjxT4snq  "
      ]
     },
     "execution_count": 164,
     "metadata": {},
     "output_type": "execute_result"
    }
   ],
   "source": [
    "con = sqlite3.connect(db_location)\n",
    "\n",
    "existing_artists = pd.read_sql(sql_statement, con)\n",
    "existing_artists['uri'] = existing_artists['artist_id']\n",
    "existing_artists['artist_id'] = 'spotify:artist:' + existing_artists['artist_id']\n",
    "existing_artists = existing_artists.drop_duplicates(subset=['artist_id'])\n",
    "existing_artists.sort_values('pull_date', ascending=False).head(10)"
   ]
  },
  {
   "cell_type": "code",
   "execution_count": 165,
   "metadata": {},
   "outputs": [
    {
     "data": {
      "text/plain": [
       "(1164, 4)"
      ]
     },
     "execution_count": 165,
     "metadata": {},
     "output_type": "execute_result"
    }
   ],
   "source": [
    "existing_artists.shape"
   ]
  },
  {
   "cell_type": "code",
   "execution_count": 166,
   "metadata": {},
   "outputs": [
    {
     "data": {
      "text/html": [
       "<div>\n",
       "<style scoped>\n",
       "    .dataframe tbody tr th:only-of-type {\n",
       "        vertical-align: middle;\n",
       "    }\n",
       "\n",
       "    .dataframe tbody tr th {\n",
       "        vertical-align: top;\n",
       "    }\n",
       "\n",
       "    .dataframe thead th {\n",
       "        text-align: right;\n",
       "    }\n",
       "</style>\n",
       "<table border=\"1\" class=\"dataframe\">\n",
       "  <thead>\n",
       "    <tr style=\"text-align: right;\">\n",
       "      <th></th>\n",
       "      <th>artist_name_x</th>\n",
       "      <th>artist_id_x</th>\n",
       "      <th>artist_name_y</th>\n",
       "      <th>artist_id_y</th>\n",
       "      <th>pull_date</th>\n",
       "      <th>uri</th>\n",
       "      <th>True</th>\n",
       "    </tr>\n",
       "  </thead>\n",
       "  <tbody>\n",
       "  </tbody>\n",
       "</table>\n",
       "</div>"
      ],
      "text/plain": [
       "Empty DataFrame\n",
       "Columns: [artist_name_x, artist_id_x, artist_name_y, artist_id_y, pull_date, uri, True]\n",
       "Index: []"
      ]
     },
     "execution_count": 166,
     "metadata": {},
     "output_type": "execute_result"
    }
   ],
   "source": [
    "unique_newly_played = newly_played[['artist_name','artist_id']].drop_duplicates(['artist_id'])\n",
    "cnt_unique_newly_played = unique_newly_played.shape[0]\n",
    "merged = pd.merge(unique_newly_played, existing_artists\n",
    "                  , left_on='artist_id', right_on='uri'\n",
    "                  , how='left', indicator='True')\n",
    "new_artists = merged[merged['True'] == 'left_only']\n",
    "new_artists_ids = new_artists['artist_id_x'].values.tolist()\n",
    "new_artists"
   ]
  },
  {
   "cell_type": "code",
   "execution_count": 167,
   "metadata": {},
   "outputs": [
    {
     "data": {
      "text/html": [
       "<div>\n",
       "<style scoped>\n",
       "    .dataframe tbody tr th:only-of-type {\n",
       "        vertical-align: middle;\n",
       "    }\n",
       "\n",
       "    .dataframe tbody tr th {\n",
       "        vertical-align: top;\n",
       "    }\n",
       "\n",
       "    .dataframe thead th {\n",
       "        text-align: right;\n",
       "    }\n",
       "</style>\n",
       "<table border=\"1\" class=\"dataframe\">\n",
       "  <thead>\n",
       "    <tr style=\"text-align: right;\">\n",
       "      <th></th>\n",
       "      <th>artist_name</th>\n",
       "      <th>artist_id</th>\n",
       "      <th>pull_date</th>\n",
       "      <th>uri</th>\n",
       "    </tr>\n",
       "  </thead>\n",
       "  <tbody>\n",
       "    <tr>\n",
       "      <th>1155</th>\n",
       "      <td>Kirsty MacColl</td>\n",
       "      <td>spotify:artist:spotify:artist:6UlNIFEuWlBqb4Tv...</td>\n",
       "      <td>2021-01-21</td>\n",
       "      <td>spotify:artist:6UlNIFEuWlBqb4TvlVCekq</td>\n",
       "    </tr>\n",
       "  </tbody>\n",
       "</table>\n",
       "</div>"
      ],
      "text/plain": [
       "         artist_name                                          artist_id  \\\n",
       "1155  Kirsty MacColl  spotify:artist:spotify:artist:6UlNIFEuWlBqb4Tv...   \n",
       "\n",
       "       pull_date                                    uri  \n",
       "1155  2021-01-21  spotify:artist:6UlNIFEuWlBqb4TvlVCekq  "
      ]
     },
     "execution_count": 167,
     "metadata": {},
     "output_type": "execute_result"
    }
   ],
   "source": [
    "existing_artists[existing_artists['artist_name'].str.contains('Kirst')]"
   ]
  },
  {
   "cell_type": "code",
   "execution_count": 168,
   "metadata": {},
   "outputs": [],
   "source": [
    "def parse_artist_rslt(artist_dict):\n",
    "    out = {}\n",
    "    out['artist_name'] = artist_dict.get('name')\n",
    "    out['uri'] = artist_dict.get('id')\n",
    "    out['artist_id'] = 'spotify:artist:' + out['uri']\n",
    "    out['followers'] = artist_dict.get('followers').get('total')\n",
    "    out['genres'] = str(artist_dict.get('genres'))\n",
    "    out['popularity'] = artist_dict.get('popularity')\n",
    "    out['pull_date'] = datetime.datetime.now().date()\n",
    "    \n",
    "    out_series = pd.Series(out)\n",
    "    return(out_series)"
   ]
  },
  {
   "cell_type": "code",
   "execution_count": 169,
   "metadata": {
    "scrolled": true
   },
   "outputs": [],
   "source": [
    "if len(new_artists_ids) > 0:\n",
    "    print(\"Pulling new artist info\")\n",
    "    artists_rslt = spotify.artists(new_artists_ids)\n",
    "    artist_series = [parse_artist_rslt(x) for x in artists_rslt['artists']]\n",
    "    artist_df = pd.concat(artist_series, axis=1).T\n",
    "#     artist_df = artist_df[['artist_name', 'artist_id', 'followers', 'genres',\n",
    "#        'popularity', 'pull_date', 'uri']]\n",
    "    artist_df.to_sql('Artists_Info', con, index=False, if_exists='append')\n"
   ]
  },
  {
   "cell_type": "code",
   "execution_count": 170,
   "metadata": {},
   "outputs": [],
   "source": [
    "con.commit()\n",
    "con.close()"
   ]
  },
  {
   "cell_type": "code",
   "execution_count": 171,
   "metadata": {},
   "outputs": [],
   "source": [
    "if 'artist_df' in locals():\n",
    "    print(artist_df)"
   ]
  },
  {
   "cell_type": "markdown",
   "metadata": {},
   "source": [
    "## Get Playlists"
   ]
  },
  {
   "cell_type": "code",
   "execution_count": null,
   "metadata": {},
   "outputs": [],
   "source": []
  },
  {
   "cell_type": "code",
   "execution_count": null,
   "metadata": {},
   "outputs": [],
   "source": []
  }
 ],
 "metadata": {
  "kernelspec": {
   "display_name": "Python 3 (ipykernel)",
   "language": "python",
   "name": "python3"
  },
  "language_info": {
   "codemirror_mode": {
    "name": "ipython",
    "version": 3
   },
   "file_extension": ".py",
   "mimetype": "text/x-python",
   "name": "python",
   "nbconvert_exporter": "python",
   "pygments_lexer": "ipython3",
   "version": "3.10.6"
  },
  "toc": {
   "base_numbering": 1,
   "nav_menu": {},
   "number_sections": true,
   "sideBar": true,
   "skip_h1_title": false,
   "title_cell": "Table of Contents",
   "title_sidebar": "Contents",
   "toc_cell": false,
   "toc_position": {},
   "toc_section_display": true,
   "toc_window_display": true
  },
  "varInspector": {
   "cols": {
    "lenName": 16,
    "lenType": 16,
    "lenVar": 40
   },
   "kernels_config": {
    "python": {
     "delete_cmd_postfix": "",
     "delete_cmd_prefix": "del ",
     "library": "var_list.py",
     "varRefreshCmd": "print(var_dic_list())"
    },
    "r": {
     "delete_cmd_postfix": ") ",
     "delete_cmd_prefix": "rm(",
     "library": "var_list.r",
     "varRefreshCmd": "cat(var_dic_list()) "
    }
   },
   "types_to_exclude": [
    "module",
    "function",
    "builtin_function_or_method",
    "instance",
    "_Feature"
   ],
   "window_display": false
  }
 },
 "nbformat": 4,
 "nbformat_minor": 4
}
