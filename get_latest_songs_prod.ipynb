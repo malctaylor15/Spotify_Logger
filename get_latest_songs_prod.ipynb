{
 "cells": [
  {
   "cell_type": "code",
   "execution_count": 1,
   "metadata": {},
   "outputs": [],
   "source": [
    "import os \n",
    "import sys \n",
    "import pandas as pd \n",
    "import re\n",
    "import pickle\n",
    "import json\n",
    "import sqlite3\n",
    "from pprint import pprint\n",
    "import datetime\n",
    "import pdb"
   ]
  },
  {
   "cell_type": "code",
   "execution_count": 2,
   "metadata": {},
   "outputs": [
    {
     "data": {
      "text/plain": [
       "'3.6.9 (default, Oct  8 2020, 12:12:24) \\n[GCC 8.4.0]'"
      ]
     },
     "execution_count": 2,
     "metadata": {},
     "output_type": "execute_result"
    }
   ],
   "source": [
    "sys.version"
   ]
  },
  {
   "cell_type": "code",
   "execution_count": 3,
   "metadata": {},
   "outputs": [],
   "source": [
    "import spotipy\n",
    "from spotipy.oauth2 import SpotifyClientCredentials, SpotifyOAuth"
   ]
  },
  {
   "cell_type": "code",
   "execution_count": 4,
   "metadata": {},
   "outputs": [],
   "source": [
    "%load_ext autoreload\n",
    "%autoreload 2"
   ]
  },
  {
   "cell_type": "markdown",
   "metadata": {},
   "source": [
    "## Set up "
   ]
  },
  {
   "cell_type": "code",
   "execution_count": 5,
   "metadata": {},
   "outputs": [],
   "source": [
    "with open('../credentials/spotify_creds.pkl', 'rb') as hnd:\n",
    "    credentials = pickle.load(hnd)"
   ]
  },
  {
   "cell_type": "code",
   "execution_count": 6,
   "metadata": {},
   "outputs": [],
   "source": [
    "os.environ.update(credentials)"
   ]
  },
  {
   "cell_type": "code",
   "execution_count": 7,
   "metadata": {},
   "outputs": [],
   "source": [
    "scope = \"user-read-recently-played\""
   ]
  },
  {
   "cell_type": "code",
   "execution_count": 8,
   "metadata": {},
   "outputs": [],
   "source": [
    "spotify = spotipy.Spotify(client_credentials_manager= SpotifyOAuth(scope=scope\n",
    "                                                                   , username='malchemist02'))"
   ]
  },
  {
   "cell_type": "code",
   "execution_count": null,
   "metadata": {},
   "outputs": [],
   "source": []
  },
  {
   "cell_type": "markdown",
   "metadata": {},
   "source": [
    "## Functions"
   ]
  },
  {
   "cell_type": "code",
   "execution_count": 9,
   "metadata": {},
   "outputs": [],
   "source": [
    "def split_utc_time_str(time_str):\n",
    "    if '.' in time_str:\n",
    "        part1 = datetime.datetime.strptime(time_str, '%Y-%m-%dT%H:%M:%S.%fZ') - datetime.timedelta(hours=4)\n",
    "    else:\n",
    "        part1 = datetime.datetime.strptime(time_str, '%Y-%m-%dT%H:%M:%SZ') - datetime.timedelta(hours=4)\n",
    "    date = str(part1.date())\n",
    "    time = str(part1.time().strftime('%H:%M'))\n",
    "    return(date, time)"
   ]
  },
  {
   "cell_type": "code",
   "execution_count": 10,
   "metadata": {},
   "outputs": [
    {
     "data": {
      "text/plain": [
       "('2020-11-13', '17:32')"
      ]
     },
     "execution_count": 10,
     "metadata": {},
     "output_type": "execute_result"
    }
   ],
   "source": [
    "time1 = split_utc_time_str('2020-11-13T21:32:20Z')\n",
    "time1"
   ]
  },
  {
   "cell_type": "code",
   "execution_count": 11,
   "metadata": {},
   "outputs": [],
   "source": [
    "def get_recently_played(after=None):\n",
    "    recently_played = spotify.current_user_recently_played(after=after)\n",
    "    # Describe json \n",
    "    print('Getting songs at ', datetime.datetime.now())\n",
    "    \n",
    "    if recently_played['cursors'] == None:\n",
    "        return(pd.DataFrame(columns = ['name', 'artist_name', 'played_at_date', 'played_at_time'\n",
    "                            , 'duration_min', 'popularity'\n",
    "                            , 'song_uri', 'artist_id', 'playlist_id']))\n",
    "    \n",
    "    before = recently_played['cursors']['before']\n",
    "    after = recently_played['cursors']['after']\n",
    "    n_items = len(recently_played['items'])\n",
    "    print(f'There are {n_items} songs between '\n",
    "          , datetime.datetime.fromtimestamp(int(before)/1000)\n",
    "          , '  and  '\n",
    "          , datetime.datetime.fromtimestamp(int(after)/1000))\n",
    "    \n",
    "    if n_items == 0:\n",
    "        return(pd.DataFrame(columns = ['name', 'artist_name', 'played_at_date', 'played_at_time'\n",
    "                            , 'duration_min', 'popularity'\n",
    "                            , 'song_uri', 'artist_id', 'playlist_id']))\n",
    "    \n",
    "    # Parse recently played output \n",
    "    songs_list = []\n",
    "    wanted_keys = ['name', 'duration_ms', 'popularity', 'uri']\n",
    "    for song in recently_played['items']:\n",
    "        temp_song_dict = {}\n",
    "        temp_song_dict['after_ts'] = after\n",
    "        temp_song_dict['played_at_date'], temp_song_dict['played_at_time'] = split_utc_time_str(song['played_at'])\n",
    "        for k in wanted_keys:\n",
    "            temp_song_dict[k] = song['track'][k]\n",
    "            \n",
    "        # Take first artist information \n",
    "        temp_song_dict['artist_name'] = song['track']['artists'][0]['name'] \n",
    "        temp_song_dict['artist_id'] = song['track']['artists'][0]['uri']\n",
    "\n",
    "        if song['context'] != None:\n",
    "            temp_song_dict['playlist_id'] = song['context']['uri']\n",
    "        else:\n",
    "            temp_song_dict['playlist_id'] = None\n",
    "        songs_list.append(temp_song_dict)\n",
    "\n",
    "    \n",
    "    # Export cleanly \n",
    "    out_series = pd.DataFrame(songs_list)\n",
    "    out_series['duration_min'] = out_series['duration_ms']/60000.0\n",
    "    out_series = out_series.rename({'uri':'song_uri'}, axis=1) \n",
    "    out_series = out_series[['name', 'artist_name', 'played_at_date', 'played_at_time'\n",
    "                            , 'duration_min', 'popularity'\n",
    "                            , 'song_uri', 'artist_id', 'playlist_id', 'after_ts']]\n",
    "    \n",
    "    return(out_series)"
   ]
  },
  {
   "cell_type": "code",
   "execution_count": null,
   "metadata": {},
   "outputs": [],
   "source": []
  },
  {
   "cell_type": "markdown",
   "metadata": {},
   "source": [
    "## Get time of last Spotify Pull"
   ]
  },
  {
   "cell_type": "code",
   "execution_count": null,
   "metadata": {},
   "outputs": [],
   "source": []
  },
  {
   "cell_type": "code",
   "execution_count": 12,
   "metadata": {
    "tags": [
     "parameters"
    ]
   },
   "outputs": [],
   "source": [
    "db_location = 'data/listening_history.db'"
   ]
  },
  {
   "cell_type": "code",
   "execution_count": 13,
   "metadata": {},
   "outputs": [],
   "source": [
    "con = sqlite3.connect(db_location)"
   ]
  },
  {
   "cell_type": "code",
   "execution_count": 14,
   "metadata": {},
   "outputs": [],
   "source": [
    "cursor = con.cursor()"
   ]
  },
  {
   "cell_type": "code",
   "execution_count": 15,
   "metadata": {},
   "outputs": [
    {
     "name": "stdout",
     "output_type": "stream",
     "text": [
      "Latest pull from  2020-12-28 02:58:15.460000\n"
     ]
    }
   ],
   "source": [
    "try:\n",
    "    rslt = cursor.execute('select max(after_ts) from Listening_History').fetchone()\n",
    "    latest_time_pull = rslt[0]\n",
    "    print(\"Latest pull from \", \n",
    "    datetime.datetime.fromtimestamp(int(latest_time_pull)/1000)) \n",
    "except Exception as e:\n",
    "    # Mainly for first run through when table doesn't exist yet \n",
    "    ## Will take the latest recent history available \n",
    "    print(e)\n",
    "    latest_time_pull = None"
   ]
  },
  {
   "cell_type": "code",
   "execution_count": 16,
   "metadata": {
    "scrolled": true
   },
   "outputs": [
    {
     "data": {
      "text/plain": [
       "('2020-11-13', '17:32')"
      ]
     },
     "execution_count": 16,
     "metadata": {},
     "output_type": "execute_result"
    }
   ],
   "source": [
    "split_utc_time_str('2020-11-13T21:32:20Z')"
   ]
  },
  {
   "cell_type": "markdown",
   "metadata": {},
   "source": [
    "## Pull from Spotify and Store to DB "
   ]
  },
  {
   "cell_type": "code",
   "execution_count": 17,
   "metadata": {},
   "outputs": [
    {
     "name": "stdout",
     "output_type": "stream",
     "text": [
      "Getting songs at  2020-12-28 04:50:09.797292\n",
      "There are 8 songs between  2020-12-28 04:26:28.873000   and   2020-12-28 04:49:05.134000\n"
     ]
    }
   ],
   "source": [
    "newly_played = get_recently_played(latest_time_pull)"
   ]
  },
  {
   "cell_type": "code",
   "execution_count": 18,
   "metadata": {},
   "outputs": [
    {
     "data": {
      "text/html": [
       "<div>\n",
       "<style scoped>\n",
       "    .dataframe tbody tr th:only-of-type {\n",
       "        vertical-align: middle;\n",
       "    }\n",
       "\n",
       "    .dataframe tbody tr th {\n",
       "        vertical-align: top;\n",
       "    }\n",
       "\n",
       "    .dataframe thead th {\n",
       "        text-align: right;\n",
       "    }\n",
       "</style>\n",
       "<table border=\"1\" class=\"dataframe\">\n",
       "  <thead>\n",
       "    <tr style=\"text-align: right;\">\n",
       "      <th></th>\n",
       "      <th>name</th>\n",
       "      <th>artist_name</th>\n",
       "      <th>played_at_date</th>\n",
       "      <th>played_at_time</th>\n",
       "      <th>duration_min</th>\n",
       "      <th>popularity</th>\n",
       "      <th>song_uri</th>\n",
       "      <th>artist_id</th>\n",
       "      <th>playlist_id</th>\n",
       "      <th>after_ts</th>\n",
       "    </tr>\n",
       "  </thead>\n",
       "  <tbody>\n",
       "    <tr>\n",
       "      <th>0</th>\n",
       "      <td>Please Come Home For Christmas</td>\n",
       "      <td>Adam Lambert</td>\n",
       "      <td>2020-12-28</td>\n",
       "      <td>00:49</td>\n",
       "      <td>2.964400</td>\n",
       "      <td>68</td>\n",
       "      <td>spotify:track:6PMhkA8o1fsn3fLCYuFp9r</td>\n",
       "      <td>spotify:artist:6prmLEyn4LfHlD9NnXWlf7</td>\n",
       "      <td>spotify:playlist:37i9dQZF1DX0A8zVl7p82B</td>\n",
       "      <td>1609130945134</td>\n",
       "    </tr>\n",
       "    <tr>\n",
       "      <th>1</th>\n",
       "      <td>One More Sleep</td>\n",
       "      <td>Leona Lewis</td>\n",
       "      <td>2020-12-28</td>\n",
       "      <td>00:46</td>\n",
       "      <td>3.993100</td>\n",
       "      <td>83</td>\n",
       "      <td>spotify:track:78pn8k7RogKo2oxl0DyX6d</td>\n",
       "      <td>spotify:artist:5lKZWd6HiSCLfnDGrq9RAm</td>\n",
       "      <td>spotify:playlist:37i9dQZF1DX0A8zVl7p82B</td>\n",
       "      <td>1609130945134</td>\n",
       "    </tr>\n",
       "    <tr>\n",
       "      <th>2</th>\n",
       "      <td>Let It Snow (with Babyface)</td>\n",
       "      <td>Tori Kelly</td>\n",
       "      <td>2020-12-28</td>\n",
       "      <td>00:42</td>\n",
       "      <td>1.973233</td>\n",
       "      <td>79</td>\n",
       "      <td>spotify:track:3BhlC2eX8obANfmLEwo1ia</td>\n",
       "      <td>spotify:artist:1vSN1fsvrzpbttOYGsliDr</td>\n",
       "      <td>spotify:playlist:37i9dQZF1DX0A8zVl7p82B</td>\n",
       "      <td>1609130945134</td>\n",
       "    </tr>\n",
       "    <tr>\n",
       "      <th>3</th>\n",
       "      <td>I'll Be Home</td>\n",
       "      <td>Meghan Trainor</td>\n",
       "      <td>2020-12-28</td>\n",
       "      <td>00:40</td>\n",
       "      <td>3.660883</td>\n",
       "      <td>77</td>\n",
       "      <td>spotify:track:0lTurWECr2XL607eJAj1A3</td>\n",
       "      <td>spotify:artist:6JL8zeS1NmiOftqZTRgdTz</td>\n",
       "      <td>spotify:playlist:37i9dQZF1DX0A8zVl7p82B</td>\n",
       "      <td>1609130945134</td>\n",
       "    </tr>\n",
       "    <tr>\n",
       "      <th>4</th>\n",
       "      <td>I Hate the Holidays</td>\n",
       "      <td>Savannah Sgro</td>\n",
       "      <td>2020-12-28</td>\n",
       "      <td>00:36</td>\n",
       "      <td>2.696200</td>\n",
       "      <td>61</td>\n",
       "      <td>spotify:track:1pf77Bh4hFKA18cM5IRLko</td>\n",
       "      <td>spotify:artist:5aj9AKqFL0JpL2sQ8Q2irp</td>\n",
       "      <td>spotify:playlist:37i9dQZF1DX0A8zVl7p82B</td>\n",
       "      <td>1609130945134</td>\n",
       "    </tr>\n",
       "  </tbody>\n",
       "</table>\n",
       "</div>"
      ],
      "text/plain": [
       "                             name     artist_name played_at_date  \\\n",
       "0  Please Come Home For Christmas    Adam Lambert     2020-12-28   \n",
       "1                  One More Sleep     Leona Lewis     2020-12-28   \n",
       "2     Let It Snow (with Babyface)      Tori Kelly     2020-12-28   \n",
       "3                    I'll Be Home  Meghan Trainor     2020-12-28   \n",
       "4             I Hate the Holidays   Savannah Sgro     2020-12-28   \n",
       "\n",
       "  played_at_time  duration_min  popularity  \\\n",
       "0          00:49      2.964400          68   \n",
       "1          00:46      3.993100          83   \n",
       "2          00:42      1.973233          79   \n",
       "3          00:40      3.660883          77   \n",
       "4          00:36      2.696200          61   \n",
       "\n",
       "                               song_uri  \\\n",
       "0  spotify:track:6PMhkA8o1fsn3fLCYuFp9r   \n",
       "1  spotify:track:78pn8k7RogKo2oxl0DyX6d   \n",
       "2  spotify:track:3BhlC2eX8obANfmLEwo1ia   \n",
       "3  spotify:track:0lTurWECr2XL607eJAj1A3   \n",
       "4  spotify:track:1pf77Bh4hFKA18cM5IRLko   \n",
       "\n",
       "                               artist_id  \\\n",
       "0  spotify:artist:6prmLEyn4LfHlD9NnXWlf7   \n",
       "1  spotify:artist:5lKZWd6HiSCLfnDGrq9RAm   \n",
       "2  spotify:artist:1vSN1fsvrzpbttOYGsliDr   \n",
       "3  spotify:artist:6JL8zeS1NmiOftqZTRgdTz   \n",
       "4  spotify:artist:5aj9AKqFL0JpL2sQ8Q2irp   \n",
       "\n",
       "                               playlist_id       after_ts  \n",
       "0  spotify:playlist:37i9dQZF1DX0A8zVl7p82B  1609130945134  \n",
       "1  spotify:playlist:37i9dQZF1DX0A8zVl7p82B  1609130945134  \n",
       "2  spotify:playlist:37i9dQZF1DX0A8zVl7p82B  1609130945134  \n",
       "3  spotify:playlist:37i9dQZF1DX0A8zVl7p82B  1609130945134  \n",
       "4  spotify:playlist:37i9dQZF1DX0A8zVl7p82B  1609130945134  "
      ]
     },
     "execution_count": 18,
     "metadata": {},
     "output_type": "execute_result"
    }
   ],
   "source": [
    "newly_played.head()"
   ]
  },
  {
   "cell_type": "code",
   "execution_count": 19,
   "metadata": {},
   "outputs": [],
   "source": [
    "con = sqlite3.connect(db_location)\n",
    "newly_played.to_sql('Listening_History', con, if_exists='append' )"
   ]
  },
  {
   "cell_type": "code",
   "execution_count": null,
   "metadata": {},
   "outputs": [],
   "source": []
  },
  {
   "cell_type": "markdown",
   "metadata": {},
   "source": [
    "## Get Artist Info "
   ]
  },
  {
   "cell_type": "code",
   "execution_count": 20,
   "metadata": {},
   "outputs": [
    {
     "data": {
      "text/plain": [
       "['Listening_History', 'Artists_Info']"
      ]
     },
     "execution_count": 20,
     "metadata": {},
     "output_type": "execute_result"
    }
   ],
   "source": [
    "tables = cursor.execute(\"SELECT name FROM sqlite_master WHERE type='table'\").fetchall()\n",
    "tables = [x[0] for x in tables]\n",
    "tables"
   ]
  },
  {
   "cell_type": "code",
   "execution_count": 21,
   "metadata": {},
   "outputs": [
    {
     "data": {
      "text/plain": [
       "'select artist_name, artist_id, pull_date from artists_info where pull_date > 2020-07-01'"
      ]
     },
     "execution_count": 21,
     "metadata": {},
     "output_type": "execute_result"
    }
   ],
   "source": [
    "six_months_ago = datetime.datetime.now() - datetime.timedelta(days=6*30)\n",
    "six_months_ago_str = str(six_months_ago.date())\n",
    "sql_statement = f'select artist_name, artist_id, pull_date from artists_info where pull_date > {six_months_ago_str}'\n",
    "sql_statement"
   ]
  },
  {
   "cell_type": "code",
   "execution_count": 22,
   "metadata": {},
   "outputs": [
    {
     "data": {
      "text/html": [
       "<div>\n",
       "<style scoped>\n",
       "    .dataframe tbody tr th:only-of-type {\n",
       "        vertical-align: middle;\n",
       "    }\n",
       "\n",
       "    .dataframe tbody tr th {\n",
       "        vertical-align: top;\n",
       "    }\n",
       "\n",
       "    .dataframe thead th {\n",
       "        text-align: right;\n",
       "    }\n",
       "</style>\n",
       "<table border=\"1\" class=\"dataframe\">\n",
       "  <thead>\n",
       "    <tr style=\"text-align: right;\">\n",
       "      <th></th>\n",
       "      <th>artist_name</th>\n",
       "      <th>artist_id</th>\n",
       "      <th>pull_date</th>\n",
       "    </tr>\n",
       "  </thead>\n",
       "  <tbody>\n",
       "    <tr>\n",
       "      <th>0</th>\n",
       "      <td>John Oates</td>\n",
       "      <td>spotify:artist:4TjR4K8rD5CqqqU59V6aGr</td>\n",
       "      <td>2020-12-15</td>\n",
       "    </tr>\n",
       "    <tr>\n",
       "      <th>1</th>\n",
       "      <td>Freddie King</td>\n",
       "      <td>spotify:artist:5dCuFngSPyOOnTAvrC7v2s</td>\n",
       "      <td>2020-12-15</td>\n",
       "    </tr>\n",
       "    <tr>\n",
       "      <th>2</th>\n",
       "      <td>Tony Bennett</td>\n",
       "      <td>spotify:artist:2lolQgalUvZDfp5vvVtTYV</td>\n",
       "      <td>2020-12-15</td>\n",
       "    </tr>\n",
       "    <tr>\n",
       "      <th>3</th>\n",
       "      <td>Khanipova</td>\n",
       "      <td>spotify:artist:7KHQppBj7ea6qRp4NsTN1u</td>\n",
       "      <td>2020-12-15</td>\n",
       "    </tr>\n",
       "    <tr>\n",
       "      <th>4</th>\n",
       "      <td>Bakar</td>\n",
       "      <td>spotify:artist:3K2Srho6NCF3o9MswGR76H</td>\n",
       "      <td>2020-12-15</td>\n",
       "    </tr>\n",
       "  </tbody>\n",
       "</table>\n",
       "</div>"
      ],
      "text/plain": [
       "    artist_name                              artist_id   pull_date\n",
       "0    John Oates  spotify:artist:4TjR4K8rD5CqqqU59V6aGr  2020-12-15\n",
       "1  Freddie King  spotify:artist:5dCuFngSPyOOnTAvrC7v2s  2020-12-15\n",
       "2  Tony Bennett  spotify:artist:2lolQgalUvZDfp5vvVtTYV  2020-12-15\n",
       "3     Khanipova  spotify:artist:7KHQppBj7ea6qRp4NsTN1u  2020-12-15\n",
       "4         Bakar  spotify:artist:3K2Srho6NCF3o9MswGR76H  2020-12-15"
      ]
     },
     "execution_count": 22,
     "metadata": {},
     "output_type": "execute_result"
    }
   ],
   "source": [
    "con = sqlite3.connect(db_location)\n",
    "\n",
    "existing_artists = pd.read_sql(sql_statement, con)\n",
    "existing_artists['artist_id'] = 'spotify:artist:' + existing_artists['artist_id']\n",
    "existing_artists = existing_artists.drop_duplicates(subset=['artist_id'])\n",
    "existing_artists.head()"
   ]
  },
  {
   "cell_type": "code",
   "execution_count": 23,
   "metadata": {},
   "outputs": [
    {
     "data": {
      "text/plain": [
       "(888, 3)"
      ]
     },
     "execution_count": 23,
     "metadata": {},
     "output_type": "execute_result"
    }
   ],
   "source": [
    "existing_artists.shape"
   ]
  },
  {
   "cell_type": "code",
   "execution_count": 24,
   "metadata": {},
   "outputs": [
    {
     "data": {
      "text/html": [
       "<div>\n",
       "<style scoped>\n",
       "    .dataframe tbody tr th:only-of-type {\n",
       "        vertical-align: middle;\n",
       "    }\n",
       "\n",
       "    .dataframe tbody tr th {\n",
       "        vertical-align: top;\n",
       "    }\n",
       "\n",
       "    .dataframe thead th {\n",
       "        text-align: right;\n",
       "    }\n",
       "</style>\n",
       "<table border=\"1\" class=\"dataframe\">\n",
       "  <thead>\n",
       "    <tr style=\"text-align: right;\">\n",
       "      <th></th>\n",
       "      <th>artist_name_x</th>\n",
       "      <th>artist_id</th>\n",
       "      <th>artist_name_y</th>\n",
       "      <th>pull_date</th>\n",
       "      <th>True</th>\n",
       "    </tr>\n",
       "  </thead>\n",
       "  <tbody>\n",
       "    <tr>\n",
       "      <th>0</th>\n",
       "      <td>Adam Lambert</td>\n",
       "      <td>spotify:artist:6prmLEyn4LfHlD9NnXWlf7</td>\n",
       "      <td>NaN</td>\n",
       "      <td>NaN</td>\n",
       "      <td>left_only</td>\n",
       "    </tr>\n",
       "    <tr>\n",
       "      <th>4</th>\n",
       "      <td>Savannah Sgro</td>\n",
       "      <td>spotify:artist:5aj9AKqFL0JpL2sQ8Q2irp</td>\n",
       "      <td>NaN</td>\n",
       "      <td>NaN</td>\n",
       "      <td>left_only</td>\n",
       "    </tr>\n",
       "    <tr>\n",
       "      <th>7</th>\n",
       "      <td>Miley Cyrus</td>\n",
       "      <td>spotify:artist:5YGY8feqx7naU7z4HrwZM6</td>\n",
       "      <td>NaN</td>\n",
       "      <td>NaN</td>\n",
       "      <td>left_only</td>\n",
       "    </tr>\n",
       "  </tbody>\n",
       "</table>\n",
       "</div>"
      ],
      "text/plain": [
       "   artist_name_x                              artist_id artist_name_y  \\\n",
       "0   Adam Lambert  spotify:artist:6prmLEyn4LfHlD9NnXWlf7           NaN   \n",
       "4  Savannah Sgro  spotify:artist:5aj9AKqFL0JpL2sQ8Q2irp           NaN   \n",
       "7    Miley Cyrus  spotify:artist:5YGY8feqx7naU7z4HrwZM6           NaN   \n",
       "\n",
       "  pull_date       True  \n",
       "0       NaN  left_only  \n",
       "4       NaN  left_only  \n",
       "7       NaN  left_only  "
      ]
     },
     "execution_count": 24,
     "metadata": {},
     "output_type": "execute_result"
    }
   ],
   "source": [
    "unique_newly_played = newly_played[['artist_name','artist_id']].drop_duplicates(['artist_id'])\n",
    "cnt_unique_newly_played = unique_newly_played.shape[0]\n",
    "merged = pd.merge(unique_newly_played, existing_artists, on='artist_id', how='left', indicator='True')\n",
    "new_artists = merged[merged['True'] == 'left_only']\n",
    "new_artists_ids = new_artists['artist_id'].values.tolist()\n",
    "new_artists"
   ]
  },
  {
   "cell_type": "code",
   "execution_count": 25,
   "metadata": {},
   "outputs": [],
   "source": [
    "def parse_artist_rslt(artist_dict):\n",
    "    out = {}\n",
    "    out['artist_name'] = artist_dict.get('name')\n",
    "    out['artist_id'] = artist_dict.get('id')\n",
    "    out['followers'] = artist_dict.get('followers').get('total')\n",
    "    out['genres'] = str(artist_dict.get('genres'))\n",
    "    out['popularity'] = artist_dict.get('popularity')\n",
    "    out['pull_date'] = datetime.datetime.now().date()\n",
    "    out_series = pd.Series(out)\n",
    "    return(out_series)"
   ]
  },
  {
   "cell_type": "code",
   "execution_count": 27,
   "metadata": {},
   "outputs": [
    {
     "name": "stdout",
     "output_type": "stream",
     "text": [
      "Pulling new artist info\n"
     ]
    }
   ],
   "source": [
    "if len(new_artists_ids) > 0:\n",
    "    print(\"Pulling new artist info\")\n",
    "    artists_rslt = spotify.artists(new_artists_ids)\n",
    "    artist_series = [parse_artist_rslt(x) for x in artists_rslt['artists']]\n",
    "    artist_df = pd.concat(artist_series, axis=1).T\n",
    "    artist_df.to_sql('Artists_Info', con, index=False, if_exists='append')\n"
   ]
  },
  {
   "cell_type": "code",
   "execution_count": 28,
   "metadata": {},
   "outputs": [],
   "source": [
    "con.commit()\n",
    "con.close()"
   ]
  },
  {
   "cell_type": "code",
   "execution_count": 29,
   "metadata": {},
   "outputs": [
    {
     "name": "stdout",
     "output_type": "stream",
     "text": [
      "     artist_name               artist_id followers  \\\n",
      "0   Adam Lambert  6prmLEyn4LfHlD9NnXWlf7   1138052   \n",
      "1  Savannah Sgro  5aj9AKqFL0JpL2sQ8Q2irp      5703   \n",
      "2    Miley Cyrus  5YGY8feqx7naU7z4HrwZM6  13611231   \n",
      "\n",
      "                                              genres popularity   pull_date  \n",
      "0  ['dance pop', 'electropop', 'idol', 'pop', 'po...         68  2020-12-28  \n",
      "1                                                 []         48  2020-12-28  \n",
      "2  ['dance pop', 'pop', 'pop dance', 'post-teen p...         91  2020-12-28  \n"
     ]
    }
   ],
   "source": [
    "if 'artist_df' in locals():\n",
    "    print(artist_df)"
   ]
  },
  {
   "cell_type": "code",
   "execution_count": null,
   "metadata": {},
   "outputs": [],
   "source": []
  }
 ],
 "metadata": {
  "kernelspec": {
   "display_name": "Python 3",
   "language": "python",
   "name": "python3"
  },
  "language_info": {
   "codemirror_mode": {
    "name": "ipython",
    "version": 3
   },
   "file_extension": ".py",
   "mimetype": "text/x-python",
   "name": "python",
   "nbconvert_exporter": "python",
   "pygments_lexer": "ipython3",
   "version": "3.6.9"
  },
  "toc": {
   "base_numbering": 1,
   "nav_menu": {},
   "number_sections": true,
   "sideBar": true,
   "skip_h1_title": false,
   "title_cell": "Table of Contents",
   "title_sidebar": "Contents",
   "toc_cell": false,
   "toc_position": {},
   "toc_section_display": true,
   "toc_window_display": false
  }
 },
 "nbformat": 4,
 "nbformat_minor": 4
}
