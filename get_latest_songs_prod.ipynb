{
 "cells": [
  {
   "cell_type": "code",
   "execution_count": 1,
   "metadata": {},
   "outputs": [],
   "source": [
    "import os \n",
    "import sys \n",
    "import pandas as pd \n",
    "import re\n",
    "import pickle\n",
    "import json\n",
    "import sqlite3\n",
    "from pprint import pprint\n",
    "import datetime\n",
    "import pdb"
   ]
  },
  {
   "cell_type": "code",
   "execution_count": 2,
   "metadata": {},
   "outputs": [
    {
     "data": {
      "text/plain": [
       "'3.6.9 (default, Oct  8 2020, 12:12:24) \\n[GCC 8.4.0]'"
      ]
     },
     "execution_count": 2,
     "metadata": {},
     "output_type": "execute_result"
    }
   ],
   "source": [
    "sys.version"
   ]
  },
  {
   "cell_type": "code",
   "execution_count": 3,
   "metadata": {},
   "outputs": [],
   "source": [
    "import spotipy\n",
    "from spotipy.oauth2 import SpotifyClientCredentials, SpotifyOAuth"
   ]
  },
  {
   "cell_type": "code",
   "execution_count": 4,
   "metadata": {},
   "outputs": [],
   "source": [
    "%load_ext autoreload\n",
    "%autoreload 2"
   ]
  },
  {
   "cell_type": "markdown",
   "metadata": {},
   "source": [
    "## Set up "
   ]
  },
  {
   "cell_type": "code",
   "execution_count": 5,
   "metadata": {},
   "outputs": [],
   "source": [
    "with open('../credentials/spotify_creds.pkl', 'rb') as hnd:\n",
    "    credentials = pickle.load(hnd)"
   ]
  },
  {
   "cell_type": "code",
   "execution_count": 6,
   "metadata": {},
   "outputs": [],
   "source": [
    "os.environ.update(credentials)"
   ]
  },
  {
   "cell_type": "code",
   "execution_count": 7,
   "metadata": {},
   "outputs": [],
   "source": [
    "scope = \"user-read-recently-played\""
   ]
  },
  {
   "cell_type": "code",
   "execution_count": 8,
   "metadata": {},
   "outputs": [],
   "source": [
    "spotify = spotipy.Spotify(client_credentials_manager= SpotifyOAuth(scope=scope\n",
    "                                                                   , username='malchemist02'))"
   ]
  },
  {
   "cell_type": "code",
   "execution_count": null,
   "metadata": {},
   "outputs": [],
   "source": []
  },
  {
   "cell_type": "markdown",
   "metadata": {},
   "source": [
    "## Functions"
   ]
  },
  {
   "cell_type": "code",
   "execution_count": 9,
   "metadata": {},
   "outputs": [],
   "source": [
    "def split_utc_time_str(time_str):\n",
    "    part1 = datetime.datetime.strptime(time_str, '%Y-%m-%dT%H:%M:%S.%fZ') - datetime.timedelta(hours=4)\n",
    "    date = str(part1.date())\n",
    "    time = str(part1.time().strftime('%H:%M'))\n",
    "    return(date, time)"
   ]
  },
  {
   "cell_type": "code",
   "execution_count": null,
   "metadata": {},
   "outputs": [],
   "source": []
  },
  {
   "cell_type": "code",
   "execution_count": 10,
   "metadata": {},
   "outputs": [],
   "source": [
    "def get_recently_played(after=None):\n",
    "    recently_played = spotify.current_user_recently_played(after=after)\n",
    "    # Describe json \n",
    "    print('Getting songs at ', datetime.datetime.now())\n",
    "    \n",
    "    if recently_played['cursors'] == None:\n",
    "        return(pd.DataFrame(columns = ['name', 'artist_name', 'played_at_date', 'played_at_time'\n",
    "                            , 'duration_min', 'popularity'\n",
    "                            , 'song_uri', 'artist_id', 'playlist_id']))\n",
    "    \n",
    "    before = recently_played['cursors']['before']\n",
    "    after = recently_played['cursors']['after']\n",
    "    n_items = len(recently_played['items'])\n",
    "    print(f'There are {n_items} songs between '\n",
    "          , datetime.datetime.fromtimestamp(int(before)/1000)\n",
    "          , '  and  '\n",
    "          , datetime.datetime.fromtimestamp(int(after)/1000))\n",
    "    \n",
    "    if n_items == 0:\n",
    "        return(pd.DataFrame(columns = ['name', 'artist_name', 'played_at_date', 'played_at_time'\n",
    "                            , 'duration_min', 'popularity'\n",
    "                            , 'song_uri', 'artist_id', 'playlist_id']))\n",
    "    \n",
    "    # Parse recently played output \n",
    "    songs_list = []\n",
    "    wanted_keys = ['name', 'duration_ms', 'popularity', 'uri']\n",
    "    for song in recently_played['items']:\n",
    "        temp_song_dict = {}\n",
    "        temp_song_dict['after_ts'] = after\n",
    "        temp_song_dict['played_at_date'], temp_song_dict['played_at_time'] = split_utc_time_str(song['played_at'])\n",
    "        for k in wanted_keys:\n",
    "            temp_song_dict[k] = song['track'][k]\n",
    "            \n",
    "        # Take first artist information \n",
    "        temp_song_dict['artist_name'] = song['track']['artists'][0]['name'] \n",
    "        temp_song_dict['artist_id'] = song['track']['artists'][0]['uri']\n",
    "\n",
    "        if song['context'] != None:\n",
    "            temp_song_dict['playlist_id'] = song['context']['uri']\n",
    "        else:\n",
    "            temp_song_dict['playlist_id'] = None\n",
    "        songs_list.append(temp_song_dict)\n",
    "\n",
    "    \n",
    "    # Export cleanly \n",
    "    out_series = pd.DataFrame(songs_list)\n",
    "    out_series['duration_min'] = out_series['duration_ms']/60000.0\n",
    "    out_series = out_series.rename({'uri':'song_uri'}, axis=1) \n",
    "    out_series = out_series[['name', 'artist_name', 'played_at_date', 'played_at_time'\n",
    "                            , 'duration_min', 'popularity'\n",
    "                            , 'song_uri', 'artist_id', 'playlist_id', 'after_ts']]\n",
    "    \n",
    "    return(out_series)"
   ]
  },
  {
   "cell_type": "code",
   "execution_count": null,
   "metadata": {},
   "outputs": [],
   "source": []
  },
  {
   "cell_type": "markdown",
   "metadata": {},
   "source": [
    "## Get time of last Spotify Pull"
   ]
  },
  {
   "cell_type": "code",
   "execution_count": 11,
   "metadata": {
    "tags": [
     "parameters"
    ]
   },
   "outputs": [],
   "source": [
    "db_location = 'data/listening_history.db'"
   ]
  },
  {
   "cell_type": "code",
   "execution_count": 12,
   "metadata": {},
   "outputs": [],
   "source": [
    "con = sqlite3.connect(db_location)"
   ]
  },
  {
   "cell_type": "code",
   "execution_count": 13,
   "metadata": {},
   "outputs": [],
   "source": [
    "cursor = con.cursor()"
   ]
  },
  {
   "cell_type": "code",
   "execution_count": 14,
   "metadata": {},
   "outputs": [
    {
     "name": "stdout",
     "output_type": "stream",
     "text": [
      "Latest pull from  2020-11-09 16:27:03.584000\n"
     ]
    }
   ],
   "source": [
    "try:\n",
    "    rslt = cursor.execute('select max(after_ts) from Listening_History').fetchone()\n",
    "    latest_time_pull = rslt[0]\n",
    "    print(\"Latest pull from \", \n",
    "    datetime.datetime.fromtimestamp(int(latest_time_pull)/1000)) \n",
    "except Exception as e:\n",
    "    # Mainly for first run through when table doesn't exist yet \n",
    "    ## Will take the latest recent history available \n",
    "    print(e)\n",
    "    latest_time_pull = None"
   ]
  },
  {
   "cell_type": "code",
   "execution_count": null,
   "metadata": {},
   "outputs": [],
   "source": []
  },
  {
   "cell_type": "markdown",
   "metadata": {},
   "source": [
    "## Pull from Spotify and Store to DB "
   ]
  },
  {
   "cell_type": "code",
   "execution_count": 15,
   "metadata": {},
   "outputs": [
    {
     "name": "stdout",
     "output_type": "stream",
     "text": [
      "Getting songs at  2020-11-11 14:29:24.285296\n",
      "There are 44 songs between  2020-11-09 21:45:18.284000   and   2020-11-10 20:21:45.755000\n"
     ]
    }
   ],
   "source": [
    "newly_played = get_recently_played(latest_time_pull)"
   ]
  },
  {
   "cell_type": "code",
   "execution_count": 16,
   "metadata": {},
   "outputs": [
    {
     "data": {
      "text/html": [
       "<div>\n",
       "<style scoped>\n",
       "    .dataframe tbody tr th:only-of-type {\n",
       "        vertical-align: middle;\n",
       "    }\n",
       "\n",
       "    .dataframe tbody tr th {\n",
       "        vertical-align: top;\n",
       "    }\n",
       "\n",
       "    .dataframe thead th {\n",
       "        text-align: right;\n",
       "    }\n",
       "</style>\n",
       "<table border=\"1\" class=\"dataframe\">\n",
       "  <thead>\n",
       "    <tr style=\"text-align: right;\">\n",
       "      <th></th>\n",
       "      <th>name</th>\n",
       "      <th>artist_name</th>\n",
       "      <th>played_at_date</th>\n",
       "      <th>played_at_time</th>\n",
       "      <th>duration_min</th>\n",
       "      <th>popularity</th>\n",
       "      <th>song_uri</th>\n",
       "      <th>artist_id</th>\n",
       "      <th>playlist_id</th>\n",
       "      <th>after_ts</th>\n",
       "    </tr>\n",
       "  </thead>\n",
       "  <tbody>\n",
       "    <tr>\n",
       "      <th>0</th>\n",
       "      <td>You Will Still Be Mine</td>\n",
       "      <td>Nick Cordero</td>\n",
       "      <td>2020-11-10</td>\n",
       "      <td>16:21</td>\n",
       "      <td>2.304217</td>\n",
       "      <td>47</td>\n",
       "      <td>spotify:track:3BZYRhdrqH7jL2OGInv31y</td>\n",
       "      <td>spotify:artist:0r6iaGl6gF2uysRPWRgsxM</td>\n",
       "      <td>spotify:playlist:1vXTNJWpsSr8myE328rsDj</td>\n",
       "      <td>1605039705755</td>\n",
       "    </tr>\n",
       "    <tr>\n",
       "      <th>1</th>\n",
       "      <td>What Baking Can Do</td>\n",
       "      <td>Jessie Mueller</td>\n",
       "      <td>2020-11-10</td>\n",
       "      <td>14:56</td>\n",
       "      <td>3.504433</td>\n",
       "      <td>55</td>\n",
       "      <td>spotify:track:0h77yfaXxrLMLz31uNDigN</td>\n",
       "      <td>spotify:artist:4okEmrM2O6CEW6en3fRWUy</td>\n",
       "      <td>spotify:playlist:1vXTNJWpsSr8myE328rsDj</td>\n",
       "      <td>1605039705755</td>\n",
       "    </tr>\n",
       "    <tr>\n",
       "      <th>2</th>\n",
       "      <td>You Matter to Me</td>\n",
       "      <td>Drew Gehling</td>\n",
       "      <td>2020-11-10</td>\n",
       "      <td>12:39</td>\n",
       "      <td>4.353100</td>\n",
       "      <td>55</td>\n",
       "      <td>spotify:track:3OIoLMnnWzAUORFQxRAhdF</td>\n",
       "      <td>spotify:artist:7ejlBSnnDMNIhEcL7MN868</td>\n",
       "      <td>spotify:album:1E1tdqqLmyi03P0TJhGuw8</td>\n",
       "      <td>1605039705755</td>\n",
       "    </tr>\n",
       "    <tr>\n",
       "      <th>3</th>\n",
       "      <td>Bad Idea - Reprise</td>\n",
       "      <td>Drew Gehling</td>\n",
       "      <td>2020-11-10</td>\n",
       "      <td>12:35</td>\n",
       "      <td>1.054000</td>\n",
       "      <td>46</td>\n",
       "      <td>spotify:track:4oUvqlTyJeSkJ0XjbkKVRk</td>\n",
       "      <td>spotify:artist:7ejlBSnnDMNIhEcL7MN868</td>\n",
       "      <td>spotify:album:1E1tdqqLmyi03P0TJhGuw8</td>\n",
       "      <td>1605039705755</td>\n",
       "    </tr>\n",
       "    <tr>\n",
       "      <th>4</th>\n",
       "      <td>I Didn't Plan It</td>\n",
       "      <td>Keala Settle</td>\n",
       "      <td>2020-11-10</td>\n",
       "      <td>12:34</td>\n",
       "      <td>2.661333</td>\n",
       "      <td>49</td>\n",
       "      <td>spotify:track:2HhPYh9wefr3DkFKWFLeV7</td>\n",
       "      <td>spotify:artist:7HV2RI2qNug4EcQqLbCAKS</td>\n",
       "      <td>spotify:album:1E1tdqqLmyi03P0TJhGuw8</td>\n",
       "      <td>1605039705755</td>\n",
       "    </tr>\n",
       "  </tbody>\n",
       "</table>\n",
       "</div>"
      ],
      "text/plain": [
       "                     name     artist_name played_at_date played_at_time  \\\n",
       "0  You Will Still Be Mine    Nick Cordero     2020-11-10          16:21   \n",
       "1      What Baking Can Do  Jessie Mueller     2020-11-10          14:56   \n",
       "2        You Matter to Me    Drew Gehling     2020-11-10          12:39   \n",
       "3      Bad Idea - Reprise    Drew Gehling     2020-11-10          12:35   \n",
       "4        I Didn't Plan It    Keala Settle     2020-11-10          12:34   \n",
       "\n",
       "   duration_min  popularity                              song_uri  \\\n",
       "0      2.304217          47  spotify:track:3BZYRhdrqH7jL2OGInv31y   \n",
       "1      3.504433          55  spotify:track:0h77yfaXxrLMLz31uNDigN   \n",
       "2      4.353100          55  spotify:track:3OIoLMnnWzAUORFQxRAhdF   \n",
       "3      1.054000          46  spotify:track:4oUvqlTyJeSkJ0XjbkKVRk   \n",
       "4      2.661333          49  spotify:track:2HhPYh9wefr3DkFKWFLeV7   \n",
       "\n",
       "                               artist_id  \\\n",
       "0  spotify:artist:0r6iaGl6gF2uysRPWRgsxM   \n",
       "1  spotify:artist:4okEmrM2O6CEW6en3fRWUy   \n",
       "2  spotify:artist:7ejlBSnnDMNIhEcL7MN868   \n",
       "3  spotify:artist:7ejlBSnnDMNIhEcL7MN868   \n",
       "4  spotify:artist:7HV2RI2qNug4EcQqLbCAKS   \n",
       "\n",
       "                               playlist_id       after_ts  \n",
       "0  spotify:playlist:1vXTNJWpsSr8myE328rsDj  1605039705755  \n",
       "1  spotify:playlist:1vXTNJWpsSr8myE328rsDj  1605039705755  \n",
       "2     spotify:album:1E1tdqqLmyi03P0TJhGuw8  1605039705755  \n",
       "3     spotify:album:1E1tdqqLmyi03P0TJhGuw8  1605039705755  \n",
       "4     spotify:album:1E1tdqqLmyi03P0TJhGuw8  1605039705755  "
      ]
     },
     "execution_count": 16,
     "metadata": {},
     "output_type": "execute_result"
    }
   ],
   "source": [
    "newly_played.head()"
   ]
  },
  {
   "cell_type": "code",
   "execution_count": 17,
   "metadata": {},
   "outputs": [],
   "source": [
    "con = sqlite3.connect(db_location)\n",
    "newly_played.to_sql('Listening_History', con, if_exists='append' )"
   ]
  },
  {
   "cell_type": "code",
   "execution_count": 18,
   "metadata": {},
   "outputs": [],
   "source": [
    "con.commit()\n",
    "con.close()"
   ]
  },
  {
   "cell_type": "code",
   "execution_count": null,
   "metadata": {},
   "outputs": [],
   "source": []
  },
  {
   "cell_type": "code",
   "execution_count": null,
   "metadata": {},
   "outputs": [],
   "source": []
  }
 ],
 "metadata": {
  "kernelspec": {
   "display_name": "Python 3",
   "language": "python",
   "name": "python3"
  },
  "language_info": {
   "codemirror_mode": {
    "name": "ipython",
    "version": 3
   },
   "file_extension": ".py",
   "mimetype": "text/x-python",
   "name": "python",
   "nbconvert_exporter": "python",
   "pygments_lexer": "ipython3",
   "version": "3.6.9"
  },
  "toc": {
   "base_numbering": 1,
   "nav_menu": {},
   "number_sections": true,
   "sideBar": true,
   "skip_h1_title": false,
   "title_cell": "Table of Contents",
   "title_sidebar": "Contents",
   "toc_cell": false,
   "toc_position": {},
   "toc_section_display": true,
   "toc_window_display": false
  }
 },
 "nbformat": 4,
 "nbformat_minor": 4
}
