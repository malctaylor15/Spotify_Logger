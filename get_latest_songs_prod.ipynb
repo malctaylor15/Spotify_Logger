{
 "cells": [
  {
   "cell_type": "code",
   "execution_count": 89,
   "metadata": {},
   "outputs": [],
   "source": [
    "import os \n",
    "import sys \n",
    "import pandas as pd \n",
    "import re\n",
    "import pickle\n",
    "import json\n",
    "import sqlite3\n",
    "from pprint import pprint\n",
    "import datetime\n",
    "import pdb"
   ]
  },
  {
   "cell_type": "code",
   "execution_count": 90,
   "metadata": {},
   "outputs": [
    {
     "data": {
      "text/plain": [
       "'3.6.9 (default, Oct  8 2020, 12:12:24) \\n[GCC 8.4.0]'"
      ]
     },
     "execution_count": 90,
     "metadata": {},
     "output_type": "execute_result"
    }
   ],
   "source": [
    "sys.version"
   ]
  },
  {
   "cell_type": "code",
   "execution_count": 91,
   "metadata": {},
   "outputs": [],
   "source": [
    "import spotipy\n",
    "from spotipy.oauth2 import SpotifyClientCredentials, SpotifyOAuth"
   ]
  },
  {
   "cell_type": "code",
   "execution_count": 92,
   "metadata": {},
   "outputs": [
    {
     "name": "stdout",
     "output_type": "stream",
     "text": [
      "The autoreload extension is already loaded. To reload it, use:\n",
      "  %reload_ext autoreload\n"
     ]
    }
   ],
   "source": [
    "%load_ext autoreload\n",
    "%autoreload 2"
   ]
  },
  {
   "cell_type": "markdown",
   "metadata": {},
   "source": [
    "## Set up "
   ]
  },
  {
   "cell_type": "code",
   "execution_count": 93,
   "metadata": {},
   "outputs": [],
   "source": [
    "with open('../credentials/spotify_creds.pkl', 'rb') as hnd:\n",
    "    credentials = pickle.load(hnd)"
   ]
  },
  {
   "cell_type": "code",
   "execution_count": 94,
   "metadata": {},
   "outputs": [],
   "source": [
    "os.environ.update(credentials)"
   ]
  },
  {
   "cell_type": "code",
   "execution_count": 95,
   "metadata": {},
   "outputs": [],
   "source": [
    "scope = \"user-read-recently-played\""
   ]
  },
  {
   "cell_type": "code",
   "execution_count": 96,
   "metadata": {},
   "outputs": [],
   "source": [
    "spotify = spotipy.Spotify(client_credentials_manager= SpotifyOAuth(scope=scope\n",
    "                                                                   , username='malchemist02'))"
   ]
  },
  {
   "cell_type": "code",
   "execution_count": null,
   "metadata": {},
   "outputs": [],
   "source": []
  },
  {
   "cell_type": "markdown",
   "metadata": {},
   "source": [
    "## Functions"
   ]
  },
  {
   "cell_type": "code",
   "execution_count": 97,
   "metadata": {},
   "outputs": [],
   "source": [
    "def split_utc_time_str(time_str):\n",
    "    if '.' in time_str:\n",
    "        part1 = datetime.datetime.strptime(time_str, '%Y-%m-%dT%H:%M:%S.%fZ') - datetime.timedelta(hours=4)\n",
    "    else:\n",
    "        part1 = datetime.datetime.strptime(time_str, '%Y-%m-%dT%H:%M:%SZ') - datetime.timedelta(hours=4)\n",
    "    date = str(part1.date())\n",
    "    time = str(part1.time().strftime('%H:%M'))\n",
    "    return(date, time)"
   ]
  },
  {
   "cell_type": "code",
   "execution_count": 98,
   "metadata": {},
   "outputs": [],
   "source": [
    "def get_recently_played(after=None):\n",
    "    recently_played = spotify.current_user_recently_played(after=after)\n",
    "    # Describe json \n",
    "    print('Getting songs at ', datetime.datetime.now())\n",
    "    \n",
    "    if recently_played['cursors'] == None:\n",
    "        return(pd.DataFrame(columns = ['name', 'artist_name', 'played_at_date', 'played_at_time'\n",
    "                            , 'duration_min', 'popularity'\n",
    "                            , 'song_uri', 'artist_id', 'playlist_id']))\n",
    "    \n",
    "    before = recently_played['cursors']['before']\n",
    "    after = recently_played['cursors']['after']\n",
    "    n_items = len(recently_played['items'])\n",
    "    print(f'There are {n_items} songs between '\n",
    "          , datetime.datetime.fromtimestamp(int(before)/1000)\n",
    "          , '  and  '\n",
    "          , datetime.datetime.fromtimestamp(int(after)/1000))\n",
    "    \n",
    "    if n_items == 0:\n",
    "        return(pd.DataFrame(columns = ['name', 'artist_name', 'played_at_date', 'played_at_time'\n",
    "                            , 'duration_min', 'popularity'\n",
    "                            , 'song_uri', 'artist_id', 'playlist_id']))\n",
    "    \n",
    "    # Parse recently played output \n",
    "    songs_list = []\n",
    "    wanted_keys = ['name', 'duration_ms', 'popularity', 'uri']\n",
    "    for song in recently_played['items']:\n",
    "        temp_song_dict = {}\n",
    "        temp_song_dict['after_ts'] = after\n",
    "        temp_song_dict['played_at_date'], temp_song_dict['played_at_time'] = split_utc_time_str(song['played_at'])\n",
    "        for k in wanted_keys:\n",
    "            temp_song_dict[k] = song['track'][k]\n",
    "            \n",
    "        # Take first artist information \n",
    "        temp_song_dict['artist_name'] = song['track']['artists'][0]['name'] \n",
    "        temp_song_dict['artist_id'] = song['track']['artists'][0]['uri']\n",
    "\n",
    "        if song['context'] != None:\n",
    "            temp_song_dict['playlist_id'] = song['context']['uri']\n",
    "        else:\n",
    "            temp_song_dict['playlist_id'] = None\n",
    "        songs_list.append(temp_song_dict)\n",
    "\n",
    "    \n",
    "    # Export cleanly \n",
    "    out_series = pd.DataFrame(songs_list)\n",
    "    out_series['duration_min'] = out_series['duration_ms']/60000.0\n",
    "    out_series = out_series.rename({'uri':'song_uri'}, axis=1) \n",
    "    out_series = out_series[['name', 'artist_name', 'played_at_date', 'played_at_time'\n",
    "                            , 'duration_min', 'popularity'\n",
    "                            , 'song_uri', 'artist_id', 'playlist_id', 'after_ts']]\n",
    "    \n",
    "    return(out_series)"
   ]
  },
  {
   "cell_type": "code",
   "execution_count": null,
   "metadata": {},
   "outputs": [],
   "source": []
  },
  {
   "cell_type": "markdown",
   "metadata": {},
   "source": [
    "## Get time of last Spotify Pull"
   ]
  },
  {
   "cell_type": "code",
   "execution_count": null,
   "metadata": {},
   "outputs": [],
   "source": []
  },
  {
   "cell_type": "code",
   "execution_count": 99,
   "metadata": {
    "tags": [
     "parameters"
    ]
   },
   "outputs": [],
   "source": [
    "db_location = 'data/listening_history.db'"
   ]
  },
  {
   "cell_type": "code",
   "execution_count": 100,
   "metadata": {},
   "outputs": [],
   "source": [
    "con = sqlite3.connect(db_location)\n",
    "cursor = con.cursor()"
   ]
  },
  {
   "cell_type": "code",
   "execution_count": 70,
   "metadata": {},
   "outputs": [],
   "source": []
  },
  {
   "cell_type": "code",
   "execution_count": 101,
   "metadata": {},
   "outputs": [
    {
     "name": "stdout",
     "output_type": "stream",
     "text": [
      "Latest pull from  2021-01-21 22:04:13.027000\n"
     ]
    }
   ],
   "source": [
    "try:\n",
    "    rslt = cursor.execute('select max(after_ts) from Listening_History').fetchone()\n",
    "    latest_time_pull = rslt[0]\n",
    "    print(\"Latest pull from \", \n",
    "    datetime.datetime.fromtimestamp(int(latest_time_pull)/1000)) \n",
    "except Exception as e:\n",
    "    # Mainly for first run through when table doesn't exist yet \n",
    "    ## Will take the latest recent history available \n",
    "    print(e)\n",
    "    latest_time_pull = None"
   ]
  },
  {
   "cell_type": "markdown",
   "metadata": {},
   "source": [
    "## Pull from Spotify and Store to DB "
   ]
  },
  {
   "cell_type": "code",
   "execution_count": 85,
   "metadata": {},
   "outputs": [
    {
     "data": {
      "text/plain": [
       "'1611266653027'"
      ]
     },
     "execution_count": 85,
     "metadata": {},
     "output_type": "execute_result"
    }
   ],
   "source": [
    "latest_time_pull"
   ]
  },
  {
   "cell_type": "code",
   "execution_count": 72,
   "metadata": {},
   "outputs": [
    {
     "name": "stdout",
     "output_type": "stream",
     "text": [
      "Getting songs at  2021-01-21 22:51:57.102958\n"
     ]
    }
   ],
   "source": [
    "newly_played = get_recently_played(latest_time_pull)"
   ]
  },
  {
   "cell_type": "code",
   "execution_count": 73,
   "metadata": {},
   "outputs": [
    {
     "data": {
      "text/html": [
       "<div>\n",
       "<style scoped>\n",
       "    .dataframe tbody tr th:only-of-type {\n",
       "        vertical-align: middle;\n",
       "    }\n",
       "\n",
       "    .dataframe tbody tr th {\n",
       "        vertical-align: top;\n",
       "    }\n",
       "\n",
       "    .dataframe thead th {\n",
       "        text-align: right;\n",
       "    }\n",
       "</style>\n",
       "<table border=\"1\" class=\"dataframe\">\n",
       "  <thead>\n",
       "    <tr style=\"text-align: right;\">\n",
       "      <th></th>\n",
       "      <th>name</th>\n",
       "      <th>artist_name</th>\n",
       "      <th>played_at_date</th>\n",
       "      <th>played_at_time</th>\n",
       "      <th>duration_min</th>\n",
       "      <th>popularity</th>\n",
       "      <th>song_uri</th>\n",
       "      <th>artist_id</th>\n",
       "      <th>playlist_id</th>\n",
       "    </tr>\n",
       "  </thead>\n",
       "  <tbody>\n",
       "  </tbody>\n",
       "</table>\n",
       "</div>"
      ],
      "text/plain": [
       "Empty DataFrame\n",
       "Columns: [name, artist_name, played_at_date, played_at_time, duration_min, popularity, song_uri, artist_id, playlist_id]\n",
       "Index: []"
      ]
     },
     "execution_count": 73,
     "metadata": {},
     "output_type": "execute_result"
    }
   ],
   "source": [
    "newly_played.head()"
   ]
  },
  {
   "cell_type": "code",
   "execution_count": 74,
   "metadata": {},
   "outputs": [],
   "source": [
    "con = sqlite3.connect(db_location)\n",
    "newly_played.to_sql('Listening_History', con, if_exists='append' )"
   ]
  },
  {
   "cell_type": "code",
   "execution_count": null,
   "metadata": {},
   "outputs": [],
   "source": []
  },
  {
   "cell_type": "markdown",
   "metadata": {},
   "source": [
    "## Get Artist Info "
   ]
  },
  {
   "cell_type": "code",
   "execution_count": 75,
   "metadata": {},
   "outputs": [
    {
     "data": {
      "text/plain": [
       "['Listening_History', 'Artists_Info']"
      ]
     },
     "execution_count": 75,
     "metadata": {},
     "output_type": "execute_result"
    }
   ],
   "source": [
    "tables = cursor.execute(\"SELECT name FROM sqlite_master WHERE type='table'\").fetchall()\n",
    "tables = [x[0] for x in tables]\n",
    "tables"
   ]
  },
  {
   "cell_type": "code",
   "execution_count": 76,
   "metadata": {},
   "outputs": [
    {
     "data": {
      "text/plain": [
       "'select artist_name, artist_id, pull_date from artists_info where pull_date > 2020-07-25'"
      ]
     },
     "execution_count": 76,
     "metadata": {},
     "output_type": "execute_result"
    }
   ],
   "source": [
    "six_months_ago = datetime.datetime.now() - datetime.timedelta(days=6*30)\n",
    "six_months_ago_str = str(six_months_ago.date())\n",
    "sql_statement = f'select artist_name, artist_id, pull_date from artists_info where pull_date > {six_months_ago_str}'\n",
    "sql_statement"
   ]
  },
  {
   "cell_type": "code",
   "execution_count": 77,
   "metadata": {},
   "outputs": [
    {
     "data": {
      "text/html": [
       "<div>\n",
       "<style scoped>\n",
       "    .dataframe tbody tr th:only-of-type {\n",
       "        vertical-align: middle;\n",
       "    }\n",
       "\n",
       "    .dataframe tbody tr th {\n",
       "        vertical-align: top;\n",
       "    }\n",
       "\n",
       "    .dataframe thead th {\n",
       "        text-align: right;\n",
       "    }\n",
       "</style>\n",
       "<table border=\"1\" class=\"dataframe\">\n",
       "  <thead>\n",
       "    <tr style=\"text-align: right;\">\n",
       "      <th></th>\n",
       "      <th>artist_name</th>\n",
       "      <th>artist_id</th>\n",
       "      <th>pull_date</th>\n",
       "      <th>uri</th>\n",
       "    </tr>\n",
       "  </thead>\n",
       "  <tbody>\n",
       "    <tr>\n",
       "      <th>0</th>\n",
       "      <td>Immortal Technique</td>\n",
       "      <td>spotify:artist:spotify:artist:7h8ja4JSORo2sXJP...</td>\n",
       "      <td>2021-01-21</td>\n",
       "      <td>spotify:artist:7h8ja4JSORo2sXJPmCXRxa</td>\n",
       "    </tr>\n",
       "    <tr>\n",
       "      <th>724</th>\n",
       "      <td>Morat</td>\n",
       "      <td>spotify:artist:spotify:artist:5C4PDR4LnhZTbVnK...</td>\n",
       "      <td>2021-01-21</td>\n",
       "      <td>spotify:artist:5C4PDR4LnhZTbVnKWXuDKD</td>\n",
       "    </tr>\n",
       "    <tr>\n",
       "      <th>776</th>\n",
       "      <td>Nick Jonas</td>\n",
       "      <td>spotify:artist:spotify:artist:4Rxn7Im3LGfyRkY2...</td>\n",
       "      <td>2021-01-21</td>\n",
       "      <td>spotify:artist:4Rxn7Im3LGfyRkY2FlHhWi</td>\n",
       "    </tr>\n",
       "    <tr>\n",
       "      <th>775</th>\n",
       "      <td>The Marías</td>\n",
       "      <td>spotify:artist:spotify:artist:2sSGPbdZJkaSE2Ab...</td>\n",
       "      <td>2021-01-21</td>\n",
       "      <td>spotify:artist:2sSGPbdZJkaSE2AbcGOACx</td>\n",
       "    </tr>\n",
       "    <tr>\n",
       "      <th>774</th>\n",
       "      <td>Evan Rachel Wood</td>\n",
       "      <td>spotify:artist:spotify:artist:3MyB0MyKec3Jq0AH...</td>\n",
       "      <td>2021-01-21</td>\n",
       "      <td>spotify:artist:3MyB0MyKec3Jq0AH2llk7v</td>\n",
       "    </tr>\n",
       "    <tr>\n",
       "      <th>773</th>\n",
       "      <td>José James</td>\n",
       "      <td>spotify:artist:spotify:artist:4l2MwXYwUDQKHcUX...</td>\n",
       "      <td>2021-01-21</td>\n",
       "      <td>spotify:artist:4l2MwXYwUDQKHcUXwCZjEz</td>\n",
       "    </tr>\n",
       "    <tr>\n",
       "      <th>772</th>\n",
       "      <td>Christina Aguilera</td>\n",
       "      <td>spotify:artist:spotify:artist:1l7ZsJRRS8wlW3Wf...</td>\n",
       "      <td>2021-01-21</td>\n",
       "      <td>spotify:artist:1l7ZsJRRS8wlW3WfJfPfNS</td>\n",
       "    </tr>\n",
       "    <tr>\n",
       "      <th>771</th>\n",
       "      <td>Gene Autry</td>\n",
       "      <td>spotify:artist:spotify:artist:5ixB75BQR3ADoWQk...</td>\n",
       "      <td>2021-01-21</td>\n",
       "      <td>spotify:artist:5ixB75BQR3ADoWQkcHQJTs</td>\n",
       "    </tr>\n",
       "    <tr>\n",
       "      <th>770</th>\n",
       "      <td>Joseph Angel</td>\n",
       "      <td>spotify:artist:spotify:artist:1HuHRxtq7Gq2llYg...</td>\n",
       "      <td>2021-01-21</td>\n",
       "      <td>spotify:artist:1HuHRxtq7Gq2llYgzAxZ9p</td>\n",
       "    </tr>\n",
       "    <tr>\n",
       "      <th>769</th>\n",
       "      <td>Lucy Grau</td>\n",
       "      <td>spotify:artist:spotify:artist:19jMH0QphQADotls...</td>\n",
       "      <td>2021-01-21</td>\n",
       "      <td>spotify:artist:19jMH0QphQADotlsRTCU3R</td>\n",
       "    </tr>\n",
       "  </tbody>\n",
       "</table>\n",
       "</div>"
      ],
      "text/plain": [
       "            artist_name                                          artist_id  \\\n",
       "0    Immortal Technique  spotify:artist:spotify:artist:7h8ja4JSORo2sXJP...   \n",
       "724               Morat  spotify:artist:spotify:artist:5C4PDR4LnhZTbVnK...   \n",
       "776          Nick Jonas  spotify:artist:spotify:artist:4Rxn7Im3LGfyRkY2...   \n",
       "775          The Marías  spotify:artist:spotify:artist:2sSGPbdZJkaSE2Ab...   \n",
       "774    Evan Rachel Wood  spotify:artist:spotify:artist:3MyB0MyKec3Jq0AH...   \n",
       "773          José James  spotify:artist:spotify:artist:4l2MwXYwUDQKHcUX...   \n",
       "772  Christina Aguilera  spotify:artist:spotify:artist:1l7ZsJRRS8wlW3Wf...   \n",
       "771          Gene Autry  spotify:artist:spotify:artist:5ixB75BQR3ADoWQk...   \n",
       "770        Joseph Angel  spotify:artist:spotify:artist:1HuHRxtq7Gq2llYg...   \n",
       "769           Lucy Grau  spotify:artist:spotify:artist:19jMH0QphQADotls...   \n",
       "\n",
       "      pull_date                                    uri  \n",
       "0    2021-01-21  spotify:artist:7h8ja4JSORo2sXJPmCXRxa  \n",
       "724  2021-01-21  spotify:artist:5C4PDR4LnhZTbVnKWXuDKD  \n",
       "776  2021-01-21  spotify:artist:4Rxn7Im3LGfyRkY2FlHhWi  \n",
       "775  2021-01-21  spotify:artist:2sSGPbdZJkaSE2AbcGOACx  \n",
       "774  2021-01-21  spotify:artist:3MyB0MyKec3Jq0AH2llk7v  \n",
       "773  2021-01-21  spotify:artist:4l2MwXYwUDQKHcUXwCZjEz  \n",
       "772  2021-01-21  spotify:artist:1l7ZsJRRS8wlW3WfJfPfNS  \n",
       "771  2021-01-21  spotify:artist:5ixB75BQR3ADoWQkcHQJTs  \n",
       "770  2021-01-21  spotify:artist:1HuHRxtq7Gq2llYgzAxZ9p  \n",
       "769  2021-01-21  spotify:artist:19jMH0QphQADotlsRTCU3R  "
      ]
     },
     "execution_count": 77,
     "metadata": {},
     "output_type": "execute_result"
    }
   ],
   "source": [
    "con = sqlite3.connect(db_location)\n",
    "\n",
    "existing_artists = pd.read_sql(sql_statement, con)\n",
    "existing_artists['uri'] = existing_artists['artist_id']\n",
    "existing_artists['artist_id'] = 'spotify:artist:' + existing_artists['artist_id']\n",
    "existing_artists = existing_artists.drop_duplicates(subset=['artist_id'])\n",
    "existing_artists.sort_values('pull_date', ascending=False).head(10)"
   ]
  },
  {
   "cell_type": "code",
   "execution_count": 78,
   "metadata": {},
   "outputs": [
    {
     "data": {
      "text/plain": [
       "(1157, 4)"
      ]
     },
     "execution_count": 78,
     "metadata": {},
     "output_type": "execute_result"
    }
   ],
   "source": [
    "existing_artists.shape"
   ]
  },
  {
   "cell_type": "code",
   "execution_count": 80,
   "metadata": {},
   "outputs": [
    {
     "data": {
      "text/html": [
       "<div>\n",
       "<style scoped>\n",
       "    .dataframe tbody tr th:only-of-type {\n",
       "        vertical-align: middle;\n",
       "    }\n",
       "\n",
       "    .dataframe tbody tr th {\n",
       "        vertical-align: top;\n",
       "    }\n",
       "\n",
       "    .dataframe thead th {\n",
       "        text-align: right;\n",
       "    }\n",
       "</style>\n",
       "<table border=\"1\" class=\"dataframe\">\n",
       "  <thead>\n",
       "    <tr style=\"text-align: right;\">\n",
       "      <th></th>\n",
       "      <th>artist_name_x</th>\n",
       "      <th>artist_id_x</th>\n",
       "      <th>artist_name_y</th>\n",
       "      <th>artist_id_y</th>\n",
       "      <th>pull_date</th>\n",
       "      <th>uri</th>\n",
       "      <th>True</th>\n",
       "    </tr>\n",
       "  </thead>\n",
       "  <tbody>\n",
       "  </tbody>\n",
       "</table>\n",
       "</div>"
      ],
      "text/plain": [
       "Empty DataFrame\n",
       "Columns: [artist_name_x, artist_id_x, artist_name_y, artist_id_y, pull_date, uri, True]\n",
       "Index: []"
      ]
     },
     "execution_count": 80,
     "metadata": {},
     "output_type": "execute_result"
    }
   ],
   "source": [
    "unique_newly_played = newly_played[['artist_name','artist_id']].drop_duplicates(['artist_id'])\n",
    "cnt_unique_newly_played = unique_newly_played.shape[0]\n",
    "merged = pd.merge(unique_newly_played, existing_artists\n",
    "                  , left_on='artist_id', right_on='uri'\n",
    "                  , how='left', indicator='True')\n",
    "new_artists = merged[merged['True'] == 'left_only']\n",
    "new_artists_ids = new_artists['artist_id_x'].values.tolist()\n",
    "new_artists"
   ]
  },
  {
   "cell_type": "code",
   "execution_count": 79,
   "metadata": {},
   "outputs": [
    {
     "data": {
      "text/html": [
       "<div>\n",
       "<style scoped>\n",
       "    .dataframe tbody tr th:only-of-type {\n",
       "        vertical-align: middle;\n",
       "    }\n",
       "\n",
       "    .dataframe tbody tr th {\n",
       "        vertical-align: top;\n",
       "    }\n",
       "\n",
       "    .dataframe thead th {\n",
       "        text-align: right;\n",
       "    }\n",
       "</style>\n",
       "<table border=\"1\" class=\"dataframe\">\n",
       "  <thead>\n",
       "    <tr style=\"text-align: right;\">\n",
       "      <th></th>\n",
       "      <th>artist_name</th>\n",
       "      <th>artist_id</th>\n",
       "      <th>pull_date</th>\n",
       "      <th>uri</th>\n",
       "    </tr>\n",
       "  </thead>\n",
       "  <tbody>\n",
       "    <tr>\n",
       "      <th>1155</th>\n",
       "      <td>Kirsty MacColl</td>\n",
       "      <td>spotify:artist:spotify:artist:6UlNIFEuWlBqb4Tv...</td>\n",
       "      <td>2021-01-21</td>\n",
       "      <td>spotify:artist:6UlNIFEuWlBqb4TvlVCekq</td>\n",
       "    </tr>\n",
       "  </tbody>\n",
       "</table>\n",
       "</div>"
      ],
      "text/plain": [
       "         artist_name                                          artist_id  \\\n",
       "1155  Kirsty MacColl  spotify:artist:spotify:artist:6UlNIFEuWlBqb4Tv...   \n",
       "\n",
       "       pull_date                                    uri  \n",
       "1155  2021-01-21  spotify:artist:6UlNIFEuWlBqb4TvlVCekq  "
      ]
     },
     "execution_count": 79,
     "metadata": {},
     "output_type": "execute_result"
    }
   ],
   "source": [
    "existing_artists[existing_artists['artist_name'].str.contains('Kirst')]"
   ]
  },
  {
   "cell_type": "code",
   "execution_count": 81,
   "metadata": {},
   "outputs": [],
   "source": [
    "def parse_artist_rslt(artist_dict):\n",
    "    out = {}\n",
    "    out['artist_name'] = artist_dict.get('name')\n",
    "    out['uri'] = artist_dict.get('id')\n",
    "    out['artist_id'] = 'spotify:artist:' + out['uri']\n",
    "    out['followers'] = artist_dict.get('followers').get('total')\n",
    "    out['genres'] = str(artist_dict.get('genres'))\n",
    "    out['popularity'] = artist_dict.get('popularity')\n",
    "    out['pull_date'] = datetime.datetime.now().date()\n",
    "    \n",
    "    out_series = pd.Series(out)\n",
    "    return(out_series)"
   ]
  },
  {
   "cell_type": "code",
   "execution_count": 82,
   "metadata": {
    "scrolled": true
   },
   "outputs": [],
   "source": [
    "if len(new_artists_ids) > 0:\n",
    "    print(\"Pulling new artist info\")\n",
    "    artists_rslt = spotify.artists(new_artists_ids)\n",
    "    artist_series = [parse_artist_rslt(x) for x in artists_rslt['artists']]\n",
    "    artist_df = pd.concat(artist_series, axis=1).T\n",
    "#     artist_df = artist_df[['artist_name', 'artist_id', 'followers', 'genres',\n",
    "#        'popularity', 'pull_date', 'uri']]\n",
    "    artist_df.to_sql('Artists_Info', con, index=False, if_exists='append')\n"
   ]
  },
  {
   "cell_type": "code",
   "execution_count": 83,
   "metadata": {},
   "outputs": [],
   "source": [
    "con.commit()\n",
    "con.close()"
   ]
  },
  {
   "cell_type": "code",
   "execution_count": 84,
   "metadata": {},
   "outputs": [],
   "source": [
    "if 'artist_df' in locals():\n",
    "    print(artist_df)"
   ]
  },
  {
   "cell_type": "markdown",
   "metadata": {},
   "source": [
    "## Get Playlists"
   ]
  }
 ],
 "metadata": {
  "kernelspec": {
   "display_name": "Python 3",
   "language": "python",
   "name": "python3"
  },
  "language_info": {
   "codemirror_mode": {
    "name": "ipython",
    "version": 3
   },
   "file_extension": ".py",
   "mimetype": "text/x-python",
   "name": "python",
   "nbconvert_exporter": "python",
   "pygments_lexer": "ipython3",
   "version": "3.6.9"
  },
  "toc": {
   "base_numbering": 1,
   "nav_menu": {},
   "number_sections": true,
   "sideBar": true,
   "skip_h1_title": false,
   "title_cell": "Table of Contents",
   "title_sidebar": "Contents",
   "toc_cell": false,
   "toc_position": {},
   "toc_section_display": true,
   "toc_window_display": true
  }
 },
 "nbformat": 4,
 "nbformat_minor": 4
}
